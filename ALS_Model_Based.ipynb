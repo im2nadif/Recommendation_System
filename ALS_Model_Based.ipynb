{
  "cells": [
    {
      "cell_type": "code",
      "execution_count": null,
      "id": "f6ad5f01-f06a-421b-bdfa-f613b9a45c2d",
      "metadata": {
        "id": "f6ad5f01-f06a-421b-bdfa-f613b9a45c2d"
      },
      "outputs": [],
      "source": [
        "import findspark\n",
        "findspark.init()"
      ]
    },
    {
      "cell_type": "code",
      "execution_count": null,
      "id": "f8de020e-4abd-4798-95cd-d3b0cd48a01b",
      "metadata": {
        "id": "f8de020e-4abd-4798-95cd-d3b0cd48a01b"
      },
      "outputs": [],
      "source": [
        "from pyspark.sql import SparkSession\n",
        "\n",
        "spark = SparkSession.builder\\\n",
        "        .master(\"local\")\\\n",
        "        .appName(\"UAS\")\\\n",
        "        .config('spark.ui.port', '3050')\\\n",
        "        .getOrCreate()"
      ]
    },
    {
      "cell_type": "code",
      "execution_count": null,
      "id": "7af41969-f0ca-421e-994f-003e53e375a0",
      "metadata": {
        "id": "7af41969-f0ca-421e-994f-003e53e375a0"
      },
      "outputs": [],
      "source": [
        "ratings = spark.read.option(\"header\", \"true\").option(\"delimiter\",\";\").csv(\"BX-Book-Ratings.csv\")"
      ]
    },
    {
      "cell_type": "code",
      "execution_count": null,
      "id": "68654fdd-fdba-4ce8-bda0-3ece979c0680",
      "metadata": {
        "id": "68654fdd-fdba-4ce8-bda0-3ece979c0680",
        "outputId": "63642916-d6ad-44fb-ff5c-2de1931b426e"
      },
      "outputs": [
        {
          "name": "stdout",
          "output_type": "stream",
          "text": [
            "root\n",
            " |-- User-ID: string (nullable = true)\n",
            " |-- ISBN: string (nullable = true)\n",
            " |-- Book-Rating: string (nullable = true)\n",
            "\n"
          ]
        }
      ],
      "source": [
        "ratings.printSchema()"
      ]
    },
    {
      "cell_type": "code",
      "execution_count": null,
      "id": "2a879277-20e2-428f-abc7-dedf2e0ee553",
      "metadata": {
        "id": "2a879277-20e2-428f-abc7-dedf2e0ee553"
      },
      "outputs": [],
      "source": [
        "ratings = ratings.withColumnRenamed(\"Book-Rating\",\"rating\")\\\n",
        "                 .withColumnRenamed(\"User-ID\",\"userId\")"
      ]
    },
    {
      "cell_type": "code",
      "execution_count": null,
      "id": "c3d35753-0d3e-42e7-ba37-435e0a99be3a",
      "metadata": {
        "id": "c3d35753-0d3e-42e7-ba37-435e0a99be3a"
      },
      "outputs": [],
      "source": [
        "from pyspark.sql.functions import col\n",
        "ratings = ratings.withColumn('userId', col('userId').cast('integer'))\\\n",
        "                    .withColumn('ISBN', col('ISBN').cast('integer'))\\\n",
        "                    .withColumn('rating', col('rating').cast('double'))"
      ]
    },
    {
      "cell_type": "code",
      "execution_count": null,
      "id": "810bb2bf-7449-422f-a1a3-cb6c3f273d46",
      "metadata": {
        "id": "810bb2bf-7449-422f-a1a3-cb6c3f273d46",
        "outputId": "9c9b40ee-30da-4e6a-b928-0bae03d7e353"
      },
      "outputs": [
        {
          "name": "stdout",
          "output_type": "stream",
          "text": [
            "root\n",
            " |-- userId: integer (nullable = true)\n",
            " |-- ISBN: integer (nullable = true)\n",
            " |-- rating: double (nullable = true)\n",
            "\n"
          ]
        }
      ],
      "source": [
        "ratings.printSchema()"
      ]
    },
    {
      "cell_type": "code",
      "execution_count": null,
      "id": "0cdcc19c-edf9-4ee7-85e1-7e759c9c2b47",
      "metadata": {
        "id": "0cdcc19c-edf9-4ee7-85e1-7e759c9c2b47",
        "outputId": "33687045-8811-4139-f524-010e0fe9e0ff"
      },
      "outputs": [
        {
          "name": "stdout",
          "output_type": "stream",
          "text": [
            "+------+------+------+\n",
            "|userId|  ISBN|rating|\n",
            "+------+------+------+\n",
            "|     0|182750|     0|\n",
            "+------+------+------+\n",
            "\n"
          ]
        }
      ],
      "source": [
        "from pyspark.sql.functions import col,isnan, when, count\n",
        "ratings.select([count(when(isnan(c) | col(c).isNull(), c)).alias(c) for c in ratings.columns]).show()"
      ]
    },
    {
      "cell_type": "code",
      "execution_count": null,
      "id": "6a9f6b57-7ec1-46dc-bffc-eab57393d421",
      "metadata": {
        "id": "6a9f6b57-7ec1-46dc-bffc-eab57393d421"
      },
      "outputs": [],
      "source": [
        "ratings = ratings.na.fill({\"rating\": 0.0})"
      ]
    },
    {
      "cell_type": "code",
      "execution_count": null,
      "id": "12970ebb-6f7e-4bd6-8a43-8a140d42049c",
      "metadata": {
        "id": "12970ebb-6f7e-4bd6-8a43-8a140d42049c",
        "outputId": "c514824e-47d0-41e9-cc4b-929c5f698132"
      },
      "outputs": [
        {
          "name": "stdout",
          "output_type": "stream",
          "text": [
            "+------+----+------+\n",
            "|userId|ISBN|rating|\n",
            "+------+----+------+\n",
            "|     0|   0|     0|\n",
            "+------+----+------+\n",
            "\n"
          ]
        }
      ],
      "source": [
        "ratings = ratings.na.drop()\n",
        "ratings.select([count(when(isnan(c) | col(c).isNull(), c)).alias(c) for c in ratings.columns]).show()"
      ]
    },
    {
      "cell_type": "code",
      "execution_count": null,
      "id": "38dfb9d3-99fc-4d11-91e8-0461753ae3c5",
      "metadata": {
        "id": "38dfb9d3-99fc-4d11-91e8-0461753ae3c5",
        "outputId": "8a78689a-2572-47c4-9c8a-cc23e266e431"
      },
      "outputs": [
        {
          "name": "stdout",
          "output_type": "stream",
          "text": [
            "root\n",
            " |-- userId: integer (nullable = true)\n",
            " |-- ISBN: integer (nullable = true)\n",
            " |-- rating: double (nullable = false)\n",
            "\n"
          ]
        }
      ],
      "source": [
        "ratings.printSchema()"
      ]
    },
    {
      "cell_type": "code",
      "execution_count": null,
      "id": "d83868ca-0e8a-4779-b8fd-0b007c8f59de",
      "metadata": {
        "id": "d83868ca-0e8a-4779-b8fd-0b007c8f59de"
      },
      "outputs": [],
      "source": [
        "# train = ratings.filter(col(\"rating\") != 0.0)\n",
        "train = ratings.limit(300000)\n",
        "# train = ratings"
      ]
    },
    {
      "cell_type": "code",
      "execution_count": null,
      "id": "48fa4fc2-744d-4753-8e64-23200724bcfc",
      "metadata": {
        "id": "48fa4fc2-744d-4753-8e64-23200724bcfc",
        "outputId": "5f8e1807-3de0-4ad1-d85c-c0ada66a30e2"
      },
      "outputs": [
        {
          "name": "stdout",
          "output_type": "stream",
          "text": [
            "Data : 300000\n",
            "Rating 0.0 : 185096\n",
            "Rating > 0.0 : 114904\n"
          ]
        }
      ],
      "source": [
        "data = train.select(\"rating\").count()\n",
        "zero = train.filter(col(\"rating\") == 0.0).count()\n",
        "print(\"Data :\" , data)\n",
        "print(\"Rating 0.0 :\", zero)\n",
        "print(\"Rating > 0.0 :\", data-zero)"
      ]
    },
    {
      "cell_type": "code",
      "execution_count": null,
      "id": "c11e9386-d075-4ac5-8cc8-72441c1d0871",
      "metadata": {
        "id": "c11e9386-d075-4ac5-8cc8-72441c1d0871"
      },
      "outputs": [],
      "source": [
        "(training, test) = train.randomSplit([0.8, 0.2], seed = None)"
      ]
    },
    {
      "cell_type": "code",
      "execution_count": null,
      "id": "9ce63915-42da-4235-8fe8-8c8a4717ab53",
      "metadata": {
        "id": "9ce63915-42da-4235-8fe8-8c8a4717ab53",
        "outputId": "0855d9f4-a110-4756-f4d1-039b3821b381"
      },
      "outputs": [
        {
          "data": {
            "text/plain": [
              "240152"
            ]
          },
          "execution_count": 16,
          "metadata": {},
          "output_type": "execute_result"
        }
      ],
      "source": [
        "training.count()"
      ]
    },
    {
      "cell_type": "code",
      "execution_count": null,
      "id": "42a4cfd0-0476-47dd-9e78-10d161418501",
      "metadata": {
        "id": "42a4cfd0-0476-47dd-9e78-10d161418501"
      },
      "outputs": [],
      "source": [
        "from pyspark.ml.recommendation import ALS\n",
        "als = ALS(userCol=\"userId\", itemCol=\"ISBN\", ratingCol=\"rating\", coldStartStrategy=\"drop\", nonnegative = True, implicitPrefs = False)"
      ]
    },
    {
      "cell_type": "code",
      "execution_count": null,
      "id": "c27f85e7-66fa-4bce-a1c6-41acb6617633",
      "metadata": {
        "id": "c27f85e7-66fa-4bce-a1c6-41acb6617633",
        "outputId": "5c4b0e1f-ae7a-4eb0-b49e-7fd4dafd5037"
      },
      "outputs": [
        {
          "name": "stdout",
          "output_type": "stream",
          "text": [
            "Num models to be tested:  16\n"
          ]
        }
      ],
      "source": [
        "from pyspark.ml.tuning import ParamGridBuilder\n",
        "param_grid = ParamGridBuilder()\\\n",
        "                .addGrid(als.rank, [10, 50, 100, 150]) \\\n",
        "                .addGrid(als.regParam, [.01, .05, .1, .15]) \\\n",
        "                .addGrid(als.maxIter, [20]) \\\n",
        "                .build()\n",
        "\n",
        "print (\"Num models to be tested: \", len(param_grid))"
      ]
    },
    {
      "cell_type": "code",
      "execution_count": null,
      "id": "d2bc0bb2-d717-4a3a-b2c1-48da2cd391c8",
      "metadata": {
        "id": "d2bc0bb2-d717-4a3a-b2c1-48da2cd391c8"
      },
      "outputs": [],
      "source": [
        "from pyspark.ml.evaluation import RegressionEvaluator\n",
        "evaluator = RegressionEvaluator(metricName=\"rmse\", labelCol=\"rating\", predictionCol=\"prediction\")"
      ]
    },
    {
      "cell_type": "code",
      "execution_count": null,
      "id": "8714e561-545f-4159-b9c5-3a33fc2db2b4",
      "metadata": {
        "id": "8714e561-545f-4159-b9c5-3a33fc2db2b4"
      },
      "outputs": [],
      "source": [
        "from pyspark.ml.tuning import CrossValidator\n",
        "cv = CrossValidator(estimator=als, estimatorParamMaps=param_grid, evaluator=evaluator)"
      ]
    },
    {
      "cell_type": "code",
      "execution_count": null,
      "id": "b5244ffe-0ea1-4306-beaa-02b577fbbdc8",
      "metadata": {
        "id": "b5244ffe-0ea1-4306-beaa-02b577fbbdc8"
      },
      "outputs": [],
      "source": [
        "model = cv.fit(training)"
      ]
    },
    {
      "cell_type": "code",
      "execution_count": null,
      "id": "a00519b5-278b-4b8e-9ffe-12974935ce1c",
      "metadata": {
        "id": "a00519b5-278b-4b8e-9ffe-12974935ce1c"
      },
      "outputs": [],
      "source": [
        "best_model = model.bestModel"
      ]
    },
    {
      "cell_type": "code",
      "execution_count": null,
      "id": "85037216-a979-4947-b185-e54df4228fb1",
      "metadata": {
        "id": "85037216-a979-4947-b185-e54df4228fb1"
      },
      "outputs": [],
      "source": [
        "print(\"Rank:\", best_model._java_obj.parent().getRank())\n",
        "print(\"MaxIter:\", best_model._java_obj.parent().getMaxIter())\n",
        "print(\"RegParam:\", best_model._java_obj.parent().getRegParam())"
      ]
    },
    {
      "cell_type": "code",
      "execution_count": null,
      "id": "NrYGO31pqhp_",
      "metadata": {
        "id": "NrYGO31pqhp_"
      },
      "outputs": [],
      "source": [
        "predictions = best_model.transform(test)"
      ]
    },
    {
      "cell_type": "code",
      "execution_count": null,
      "id": "h3AfFuFuqmHc",
      "metadata": {
        "id": "h3AfFuFuqmHc"
      },
      "outputs": [],
      "source": [
        "RMSE = evaluator.evaluate(predictions)\n",
        "print(\"RMSE\", RMSE)"
      ]
    },
    {
      "cell_type": "code",
      "execution_count": null,
      "id": "kfZyT5CQqwIT",
      "metadata": {
        "id": "kfZyT5CQqwIT"
      },
      "outputs": [],
      "source": [
        "uRecom = best_model.recommendForAllUsers(10)"
      ]
    },
    {
      "cell_type": "code",
      "execution_count": null,
      "id": "rK5jdptgq0u0",
      "metadata": {
        "id": "rK5jdptgq0u0"
      },
      "outputs": [],
      "source": [
        "iRecom = best_model.recommendForAllItems(10)"
      ]
    },
    {
      "cell_type": "code",
      "execution_count": null,
      "id": "cEk7US85ryfh",
      "metadata": {
        "id": "cEk7US85ryfh"
      },
      "outputs": [],
      "source": [
        "from pyspark.sql.functions import explode"
      ]
    },
    {
      "cell_type": "code",
      "execution_count": null,
      "id": "rEo7U4zmr3Wh",
      "metadata": {
        "id": "rEo7U4zmr3Wh"
      },
      "outputs": [],
      "source": [
        "uRecs = uRecom.withColumn(\"rec_exp\", explode(\"recommendations\"))\\\n",
        "              .select('userId', col(\"rec_exp.ISBN\"), col(\"rec_exp.rating\"))"
      ]
    },
    {
      "cell_type": "code",
      "execution_count": null,
      "id": "PNf_CZ5Jso8a",
      "metadata": {
        "id": "PNf_CZ5Jso8a"
      },
      "outputs": [],
      "source": [
        "iRecs = iRecom.withColumn(\"rec_exp\", explode(\"recommendations\"))\\\n",
        "              .select('ISBN', col(\"rec_exp.userId\"), col(\"rec_exp.rating\"))"
      ]
    },
    {
      "cell_type": "code",
      "execution_count": null,
      "id": "3496f6a4-913f-49ba-8417-f52f3e22a609",
      "metadata": {
        "id": "3496f6a4-913f-49ba-8417-f52f3e22a609",
        "outputId": "fba5fa0d-d0e9-4607-ccaa-7705fbd195d3"
      },
      "outputs": [
        {
          "name": "stdout",
          "output_type": "stream",
          "text": [
            "+------+----------+---------+\n",
            "|userId|      ISBN|   rating|\n",
            "+------+----------+---------+\n",
            "| 60714| 860514501|28.768648|\n",
            "| 67465| 860514501|28.220264|\n",
            "| 46947| 860514501|27.372032|\n",
            "| 66823| 860514501| 25.65177|\n",
            "|  2135| 860514501|24.544556|\n",
            "| 21046| 860514501|24.057022|\n",
            "| 57221| 860514501|24.001074|\n",
            "| 70461| 860514501|23.687176|\n",
            "| 64530| 440139791|23.587126|\n",
            "| 64530| 310912520|23.587126|\n",
            "| 21191| 860514501|22.123701|\n",
            "| 39459| 708830560|22.016844|\n",
            "| 49215| 552122866|21.937525|\n",
            "| 38995| 708830560|21.694242|\n",
            "| 76576| 860514501|21.518108|\n",
            "| 64530| 553202790|21.228416|\n",
            "| 64530| 395681863|21.228416|\n",
            "| 64530| 440800129|21.228416|\n",
            "| 64530| 590117653|21.228416|\n",
            "| 35401|1575841711|21.046762|\n",
            "+------+----------+---------+\n",
            "only showing top 20 rows\n",
            "\n"
          ]
        }
      ],
      "source": [
        "uRecs.sort(col('rating').desc()).show()"
      ]
    },
    {
      "cell_type": "code",
      "execution_count": null,
      "id": "oA3jj2Dyt6gm",
      "metadata": {
        "id": "oA3jj2Dyt6gm",
        "outputId": "aad90f29-09c4-4394-ab28-56182738e3b3"
      },
      "outputs": [
        {
          "name": "stdout",
          "output_type": "stream",
          "text": [
            "Item  1082150\n",
            "User  245330\n"
          ]
        }
      ],
      "source": [
        "print(\"Item \", iRecs.count())\n",
        "print(\"User \", uRecs.count())"
      ]
    },
    {
      "cell_type": "code",
      "execution_count": null,
      "id": "b5580596-2ffa-4918-9470-8561db722fd5",
      "metadata": {
        "id": "b5580596-2ffa-4918-9470-8561db722fd5"
      },
      "outputs": [],
      "source": [
        "from pyspark.sql.functions import avg\n",
        "\n",
        "rating_book = iRecs.groupBy(\"ISBN\").agg(avg(\"rating\").alias(\"avg rating\")).filter(col('avg rating') != 0.0)"
      ]
    },
    {
      "cell_type": "code",
      "execution_count": null,
      "id": "7934713c-aa8d-4572-929b-de27bd29b93f",
      "metadata": {
        "id": "7934713c-aa8d-4572-929b-de27bd29b93f",
        "outputId": "005f3b8d-8ce2-42b9-d4a2-02e805c82b20"
      },
      "outputs": [
        {
          "name": "stdout",
          "output_type": "stream",
          "text": [
            "+-----+------------------+\n",
            "| ISBN|        avg rating|\n",
            "+-----+------------------+\n",
            "|    2| 9.445890712738038|\n",
            "|    3| 7.473214483261108|\n",
            "|   10|7.5906116485595705|\n",
            "|   20| 8.539437770843506|\n",
            "|   84| 5.003663873672485|\n",
            "|   90| 8.698471832275391|\n",
            "|  279| 9.078240871429443|\n",
            "|  698|7.4398369789123535|\n",
            "| 1400| 6.646812486648559|\n",
            "| 1401| 5.559951496124268|\n",
            "| 1403| 8.829939651489259|\n",
            "| 1404|6.4485368728637695|\n",
            "| 1406|  7.05359525680542|\n",
            "| 1420| 8.961522483825684|\n",
            "| 1460| 7.684878921508789|\n",
            "| 1965| 5.977848863601684|\n",
            "|14048|  7.31473708152771|\n",
            "|16964|6.4078452587127686|\n",
            "|21013| 7.331098461151123|\n",
            "|48118| 5.949427080154419|\n",
            "+-----+------------------+\n",
            "only showing top 20 rows\n",
            "\n"
          ]
        }
      ],
      "source": [
        "rating_book.show()"
      ]
    }
  ],
  "metadata": {
    "colab": {
      "provenance": []
    },
    "kernelspec": {
      "display_name": "Python 3 (ipykernel)",
      "language": "python",
      "name": "python3"
    },
    "language_info": {
      "codemirror_mode": {
        "name": "ipython",
        "version": 3
      },
      "file_extension": ".py",
      "mimetype": "text/x-python",
      "name": "python",
      "nbconvert_exporter": "python",
      "pygments_lexer": "ipython3",
      "version": "3.10.6"
    }
  },
  "nbformat": 4,
  "nbformat_minor": 5
}