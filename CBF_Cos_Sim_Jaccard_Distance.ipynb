{
  "cells": [
    {
      "cell_type": "code",
      "execution_count": null,
      "metadata": {
        "id": "2geqdvMk-8q5"
      },
      "outputs": [],
      "source": [
        "import findspark\n",
        "findspark.init()"
      ]
    },
    {
      "cell_type": "code",
      "execution_count": null,
      "metadata": {
        "id": "XtyTgM6gBNd7"
      },
      "outputs": [],
      "source": [
        "from pyspark.sql import SparkSession\n",
        "\n",
        "spark = SparkSession.builder\\\n",
        "        .master(\"local\")\\\n",
        "        .appName(\"UAS\")\\\n",
        "        .config('spark.ui.port', '5050')\\\n",
        "        .getOrCreate()"
      ]
    },
    {
      "cell_type": "code",
      "execution_count": null,
      "metadata": {
        "id": "cWYvQ1Hx-8q6"
      },
      "outputs": [],
      "source": [
        "books = spark.read.option(\"header\", \"true\").option(\"delimiter\",\";\").csv(\"BX_Books.csv\")"
      ]
    },
    {
      "cell_type": "code",
      "execution_count": null,
      "metadata": {
        "id": "kGhy8GDd-8q7"
      },
      "outputs": [],
      "source": [
        "books = books.drop(\"Image-URL-S\", \"Image-URL-M\", \"Image-URL-L\")"
      ]
    },
    {
      "cell_type": "code",
      "execution_count": null,
      "metadata": {
        "id": "GRhueA1Y-8q7"
      },
      "outputs": [],
      "source": [
        "from pyspark.sql.functions import concat, col, lit\n",
        "books = books.select(\"ISBN\", concat(col(\"Book-Title\"), lit(' '), col(\"Book-Author\"), lit(' '), col(\"Publisher\")).alias('sentences'))"
      ]
    },
    {
      "cell_type": "code",
      "execution_count": null,
      "metadata": {
        "id": "nROaI_Bc-8q7",
        "outputId": "d02fcfd7-8477-4d10-bc85-25a15748c6e6"
      },
      "outputs": [
        {
          "name": "stdout",
          "output_type": "stream",
          "text": [
            "+----------+--------------------------------------------------------------+\n",
            "|ISBN      |sentences                                                     |\n",
            "+----------+--------------------------------------------------------------+\n",
            "|0195153448|Classical Mythology Mark P. O. Morford Oxford University Press|\n",
            "|0002005018|Clara Callan Richard Bruce Wright HarperFlamingo Canada       |\n",
            "|0060973129|Decision in Normandy Carlo D'Este HarperPerennial             |\n",
            "+----------+--------------------------------------------------------------+\n",
            "only showing top 3 rows\n",
            "\n"
          ]
        }
      ],
      "source": [
        "books.show(3, truncate=False)"
      ]
    },
    {
      "cell_type": "code",
      "execution_count": null,
      "metadata": {
        "id": "pyaGohy6-8q8"
      },
      "outputs": [],
      "source": [
        "from pyspark.sql.functions import lower\n",
        "books = books.withColumn(\"sentences\", lower(\"sentences\"))"
      ]
    },
    {
      "cell_type": "code",
      "execution_count": null,
      "metadata": {
        "id": "bGKqy9eG-8q8",
        "outputId": "c89291ab-8f28-405f-ac13-d528408197be"
      },
      "outputs": [
        {
          "name": "stdout",
          "output_type": "stream",
          "text": [
            "+----------+--------------------------------------------------------------+\n",
            "|ISBN      |sentences                                                     |\n",
            "+----------+--------------------------------------------------------------+\n",
            "|0195153448|classical mythology mark p. o. morford oxford university press|\n",
            "|0002005018|clara callan richard bruce wright harperflamingo canada       |\n",
            "|0060973129|decision in normandy carlo d'este harperperennial             |\n",
            "+----------+--------------------------------------------------------------+\n",
            "only showing top 3 rows\n",
            "\n"
          ]
        }
      ],
      "source": [
        "books.show(3, truncate=False)"
      ]
    },
    {
      "cell_type": "code",
      "execution_count": null,
      "metadata": {
        "id": "KhZ6hxm5-8q8",
        "outputId": "aeeabb2d-f57d-4d68-f397-6a53d3334947"
      },
      "outputs": [
        {
          "name": "stdout",
          "output_type": "stream",
          "text": [
            "+----------+--------------------------------------------------------------+\n",
            "|ISBN      |sentences                                                     |\n",
            "+----------+--------------------------------------------------------------+\n",
            "|0451155750|the dead zone stephen king signet book                        |\n",
            "|0375411992|blackwood farm the vampire chronicles anne rice alfred a knopf|\n",
            "|081257060X|the return buzz aldrin tor books                              |\n",
            "+----------+--------------------------------------------------------------+\n",
            "only showing top 3 rows\n",
            "\n"
          ]
        }
      ],
      "source": [
        "from pyspark.sql.functions import regexp_replace\n",
        "import re\n",
        "\n",
        "books = books.withColumn(\"sentences\", regexp_replace(\"sentences\", \"[^a-zA-Z\\\\s]\", \"  \"))\\\n",
        "             .withColumn(\"sentences\", regexp_replace(\"sentences\", \"\\s+\", \" \"))\\\n",
        "             .distinct()\n",
        "\n",
        "books.show(3, truncate=False)"
      ]
    },
    {
      "cell_type": "code",
      "execution_count": null,
      "metadata": {
        "id": "MrhKzqYb-8q9"
      },
      "outputs": [],
      "source": [
        "from pyspark.sql.functions import monotonically_increasing_id\n",
        "books = books.withColumn(\"id\", monotonically_increasing_id())\n",
        "books = books.select(books.id, books.ISBN, books.sentences)"
      ]
    },
    {
      "cell_type": "code",
      "execution_count": null,
      "metadata": {
        "id": "sg-VKf-T-8q9",
        "outputId": "4d50b94b-79c4-4f7e-bf0b-81c6b4bbcb1a"
      },
      "outputs": [
        {
          "name": "stdout",
          "output_type": "stream",
          "text": [
            "+---+----------+--------------------------------------------------------------+\n",
            "|id |ISBN      |sentences                                                     |\n",
            "+---+----------+--------------------------------------------------------------+\n",
            "|0  |0451155750|the dead zone stephen king signet book                        |\n",
            "|1  |0375411992|blackwood farm the vampire chronicles anne rice alfred a knopf|\n",
            "|2  |081257060X|the return buzz aldrin tor books                              |\n",
            "+---+----------+--------------------------------------------------------------+\n",
            "only showing top 3 rows\n",
            "\n"
          ]
        }
      ],
      "source": [
        "books.show(3,truncate=False)"
      ]
    },
    {
      "cell_type": "code",
      "execution_count": null,
      "metadata": {
        "id": "ngym85BT-8q9",
        "outputId": "ca87d517-6e4d-423b-c888-bd7a5286baaf"
      },
      "outputs": [
        {
          "name": "stdout",
          "output_type": "stream",
          "text": [
            "+---+----+---------+\n",
            "| id|ISBN|sentences|\n",
            "+---+----+---------+\n",
            "|  0|   0|        0|\n",
            "+---+----+---------+\n",
            "\n"
          ]
        },
        {
          "data": {
            "text/plain": [
              "271379"
            ]
          },
          "execution_count": 77,
          "metadata": {},
          "output_type": "execute_result"
        }
      ],
      "source": [
        "from pyspark.sql.functions import col,isnan, when, count\n",
        "books = books.na.drop()\n",
        "books.select([count(when(isnan(c) | col(c).isNull(), c)).alias(c) for c in books.columns]).show()\n",
        "books.count()"
      ]
    },
    {
      "cell_type": "code",
      "execution_count": null,
      "metadata": {
        "id": "VMOmJOjf-8q9"
      },
      "outputs": [],
      "source": [
        "import nltk\n",
        "from nltk.corpus import stopwords"
      ]
    },
    {
      "cell_type": "code",
      "execution_count": null,
      "metadata": {
        "id": "05ajQKgb-8q-",
        "outputId": "055a4312-82aa-4ecb-b6f5-b0d47f294a13"
      },
      "outputs": [
        {
          "name": "stderr",
          "output_type": "stream",
          "text": [
            "[nltk_data] Downloading package stopwords to C:\\Users\\Ilham Mafani\n",
            "[nltk_data]     Nadif\\AppData\\Roaming\\nltk_data...\n",
            "[nltk_data]   Package stopwords is already up-to-date!\n"
          ]
        },
        {
          "data": {
            "text/plain": [
              "True"
            ]
          },
          "execution_count": 79,
          "metadata": {},
          "output_type": "execute_result"
        }
      ],
      "source": [
        "nltk.download('stopwords')"
      ]
    },
    {
      "cell_type": "code",
      "execution_count": null,
      "metadata": {
        "id": "vG1zU7g_-8q-"
      },
      "outputs": [],
      "source": [
        "stop_words = stopwords.words('english')"
      ]
    },
    {
      "cell_type": "code",
      "execution_count": null,
      "metadata": {
        "id": "HUKWGti6-8q-"
      },
      "outputs": [],
      "source": [
        "remove = books.rdd.filter(lambda x: x[2] not in stop_words)\n",
        "books = remove.toDF()"
      ]
    },
    {
      "cell_type": "code",
      "execution_count": null,
      "metadata": {
        "id": "hyzZyfll-8q-",
        "outputId": "e8484ce0-e791-4ac1-a6cd-0bc12756d58c"
      },
      "outputs": [
        {
          "name": "stdout",
          "output_type": "stream",
          "text": [
            "+---+----------+--------------------------------------------------------------+\n",
            "|id |ISBN      |sentences                                                     |\n",
            "+---+----------+--------------------------------------------------------------+\n",
            "|0  |0451155750|the dead zone stephen king signet book                        |\n",
            "|1  |0375411992|blackwood farm the vampire chronicles anne rice alfred a knopf|\n",
            "|2  |081257060X|the return buzz aldrin tor books                              |\n",
            "+---+----------+--------------------------------------------------------------+\n",
            "only showing top 3 rows\n",
            "\n"
          ]
        }
      ],
      "source": [
        "books.show(3, truncate=False)"
      ]
    },
    {
      "cell_type": "code",
      "execution_count": null,
      "metadata": {
        "id": "ImDSFZQM-8q-"
      },
      "outputs": [],
      "source": [
        "from pyspark.ml.feature import Tokenizer, StopWordsRemover, HashingTF, IDF, Normalizer\n",
        "from pyspark.ml import Pipeline"
      ]
    },
    {
      "cell_type": "code",
      "execution_count": null,
      "metadata": {
        "id": "aSLL2Wj0-8q-",
        "outputId": "da98943f-73ff-4a65-9d2e-5c2c57382a13"
      },
      "outputs": [
        {
          "name": "stdout",
          "output_type": "stream",
          "text": [
            "+-------------------------------------------------------------------------+\n",
            "|words                                                                    |\n",
            "+-------------------------------------------------------------------------+\n",
            "|[the, dead, zone, stephen, king, signet, book]                           |\n",
            "|[blackwood, farm, the, vampire, chronicles, anne, rice, alfred, a, knopf]|\n",
            "|[the, return, buzz, aldrin, tor, books]                                  |\n",
            "+-------------------------------------------------------------------------+\n",
            "only showing top 3 rows\n",
            "\n"
          ]
        }
      ],
      "source": [
        "tokenizer = Tokenizer(inputCol=\"sentences\", outputCol=\"words\")\n",
        "tok = tokenizer.transform(books)\n",
        "tok.select('words').show(3,truncate=False)"
      ]
    },
    {
      "cell_type": "code",
      "execution_count": null,
      "metadata": {
        "id": "fegAuWew-8q-",
        "outputId": "7d022414-4f62-4cbc-d864-500fe48282e1"
      },
      "outputs": [
        {
          "name": "stdout",
          "output_type": "stream",
          "text": [
            "+----------------------------------------------------------------------+\n",
            "|filtered                                                              |\n",
            "+----------------------------------------------------------------------+\n",
            "|[the, dead, zone, stephen, king, signet, book]                        |\n",
            "|[blackwood, farm, the, vampire, chronicles, anne, rice, alfred, knopf]|\n",
            "|[the, return, buzz, aldrin, tor, books]                               |\n",
            "+----------------------------------------------------------------------+\n",
            "only showing top 3 rows\n",
            "\n"
          ]
        }
      ],
      "source": [
        "import string\n",
        "alphabet = list(string.ascii_lowercase)\n",
        "remover = StopWordsRemover(stopWords=alphabet, inputCol=tokenizer.getOutputCol(), outputCol=\"filtered\")\n",
        "removed = remover.transform(tok)\n",
        "removed.select('filtered').show(3, truncate=False)"
      ]
    },
    {
      "cell_type": "code",
      "execution_count": null,
      "metadata": {
        "id": "iPoRrw6w-8q_",
        "outputId": "ff752408-e089-4940-ba0b-ebd90f827e27"
      },
      "outputs": [
        {
          "name": "stdout",
          "output_type": "stream",
          "text": [
            "+---+----------+--------------------+--------------------+--------------------+--------------------+\n",
            "| id|      ISBN|           sentences|               words|            filtered|                  tf|\n",
            "+---+----------+--------------------+--------------------+--------------------+--------------------+\n",
            "|  0|0451155750|the dead zone ste...|[the, dead, zone,...|[the, dead, zone,...|(262144,[11275,19...|\n",
            "|  1|0375411992|blackwood farm th...|[blackwood, farm,...|[blackwood, farm,...|(262144,[1857,300...|\n",
            "|  2|081257060X|the return buzz a...|[the, return, buz...|[the, return, buz...|(262144,[33647,43...|\n",
            "+---+----------+--------------------+--------------------+--------------------+--------------------+\n",
            "only showing top 3 rows\n",
            "\n"
          ]
        }
      ],
      "source": [
        "hashingTF = HashingTF(inputCol=remover.getOutputCol(), outputCol=\"tf\")\n",
        "tf = hashingTF.transform(removed)\n",
        "tf.show(3)"
      ]
    },
    {
      "cell_type": "code",
      "execution_count": null,
      "metadata": {
        "id": "oGU2Rndw-8q_",
        "outputId": "3f78f632-8848-442e-fb46-735fabe8d1f1"
      },
      "outputs": [
        {
          "name": "stdout",
          "output_type": "stream",
          "text": [
            "+---+----------+--------------------+--------------------+--------------------+--------------------+--------------------+\n",
            "| id|      ISBN|           sentences|               words|            filtered|                  tf|             feature|\n",
            "+---+----------+--------------------+--------------------+--------------------+--------------------+--------------------+\n",
            "|  0|0451155750|the dead zone ste...|[the, dead, zone,...|[the, dead, zone,...|(262144,[11275,19...|(262144,[11275,19...|\n",
            "|  1|0375411992|blackwood farm th...|[blackwood, farm,...|[blackwood, farm,...|(262144,[1857,300...|(262144,[1857,300...|\n",
            "|  2|081257060X|the return buzz a...|[the, return, buz...|[the, return, buz...|(262144,[33647,43...|(262144,[33647,43...|\n",
            "+---+----------+--------------------+--------------------+--------------------+--------------------+--------------------+\n",
            "only showing top 3 rows\n",
            "\n"
          ]
        }
      ],
      "source": [
        "idf = IDF(inputCol=hashingTF.getOutputCol(), outputCol=\"feature\").fit(tf)\n",
        "tfidf = idf.transform(tf)\n",
        "tfidf.show(3)"
      ]
    },
    {
      "cell_type": "code",
      "execution_count": null,
      "metadata": {
        "id": "Ac68WEQ6-8q_",
        "outputId": "5631e283-e09d-4b70-caa8-4deb14087f19"
      },
      "outputs": [
        {
          "name": "stdout",
          "output_type": "stream",
          "text": [
            "+---+----------+--------------------+--------------------+--------------------+--------------------+--------------------+--------------------+\n",
            "| id|      ISBN|           sentences|               words|            filtered|                  tf|             feature|                norm|\n",
            "+---+----------+--------------------+--------------------+--------------------+--------------------+--------------------+--------------------+\n",
            "|  0|0451155750|the dead zone ste...|[the, dead, zone,...|[the, dead, zone,...|(262144,[11275,19...|(262144,[11275,19...|(262144,[11275,19...|\n",
            "|  1|0375411992|blackwood farm th...|[blackwood, farm,...|[blackwood, farm,...|(262144,[1857,300...|(262144,[1857,300...|(262144,[1857,300...|\n",
            "|  2|081257060X|the return buzz a...|[the, return, buz...|[the, return, buz...|(262144,[33647,43...|(262144,[33647,43...|(262144,[33647,43...|\n",
            "+---+----------+--------------------+--------------------+--------------------+--------------------+--------------------+--------------------+\n",
            "only showing top 3 rows\n",
            "\n"
          ]
        }
      ],
      "source": [
        "normalizer = Normalizer(inputCol=idf.getOutputCol(), outputCol=\"norm\")\n",
        "data = normalizer.transform(tfidf)\n",
        "\n",
        "data.show(3)"
      ]
    },
    {
      "cell_type": "code",
      "execution_count": null,
      "metadata": {
        "id": "3CpBqIxR-8q_"
      },
      "outputs": [],
      "source": [
        "key = data.limit(1)"
      ]
    },
    {
      "cell_type": "code",
      "execution_count": null,
      "metadata": {
        "id": "nK-u7qmp-8q_"
      },
      "outputs": [],
      "source": [
        "process = data.filter(col('id') != 0)"
      ]
    },
    {
      "cell_type": "code",
      "execution_count": null,
      "metadata": {
        "id": "jEZwbI7P-8q_",
        "outputId": "987e1b03-2a0a-42ba-90ff-a439b36e94e5"
      },
      "outputs": [
        {
          "data": {
            "text/plain": [
              "271378"
            ]
          },
          "execution_count": 91,
          "metadata": {},
          "output_type": "execute_result"
        }
      ],
      "source": [
        "process.count()"
      ]
    },
    {
      "cell_type": "code",
      "execution_count": null,
      "metadata": {
        "id": "_oPV5bHi-8rA",
        "outputId": "bbd9a076-0556-4044-fc32-fda3225d8e4d"
      },
      "outputs": [
        {
          "name": "stdout",
          "output_type": "stream",
          "text": [
            "+---+--------------------------------------+\n",
            "|id |sentences                             |\n",
            "+---+--------------------------------------+\n",
            "|0  |the dead zone stephen king signet book|\n",
            "|0  |the dead zone stephen king signet book|\n",
            "|0  |the dead zone stephen king signet book|\n",
            "+---+--------------------------------------+\n",
            "only showing top 3 rows\n",
            "\n"
          ]
        }
      ],
      "source": [
        "from pyspark.sql import functions as F\n",
        "rep = key.withColumn(\"id\", F.explode(F.array_repeat(\"id\", process.count())))\n",
        "rep.select('id','sentences').show(3,truncate=False)"
      ]
    },
    {
      "cell_type": "code",
      "execution_count": null,
      "metadata": {
        "id": "itiD0DA4-8rA",
        "outputId": "31e1bc7a-7abf-4891-8e23-35f9ef4cae13"
      },
      "outputs": [
        {
          "data": {
            "text/plain": [
              "Row(id=1, ISBN='0375411992', sentences='blackwood farm the vampire chronicles anne rice alfred a knopf', words=['blackwood', 'farm', 'the', 'vampire', 'chronicles', 'anne', 'rice', 'alfred', 'a', 'knopf'], filtered=['blackwood', 'farm', 'the', 'vampire', 'chronicles', 'anne', 'rice', 'alfred', 'knopf'], tf=SparseVector(262144, {1857: 1.0, 30006: 1.0, 72357: 1.0, 83990: 1.0, 95030: 1.0, 95889: 1.0, 218042: 1.0, 231043: 1.0, 234835: 1.0}), feature=SparseVector(262144, {1857: 5.5965, 30006: 6.3932, 72357: 5.9488, 83990: 8.9849, 95030: 4.8205, 95889: 1.0311, 218042: 5.5528, 231043: 6.4428, 234835: 7.056}), norm=SparseVector(262144, {1857: 0.3059, 30006: 0.3494, 72357: 0.3251, 83990: 0.4911, 95030: 0.2635, 95889: 0.0564, 218042: 0.3035, 231043: 0.3521, 234835: 0.3857}), hashes=[DenseVector([319442083.0])])"
            ]
          },
          "execution_count": 93,
          "metadata": {},
          "output_type": "execute_result"
        }
      ],
      "source": [
        "from pyspark.ml.feature import MinHashLSH, MinHashLSHModel\n",
        "from pyspark.ml.linalg import Vector\n",
        "\n",
        "mLSH = MinHashLSH(inputCol=normalizer.getOutputCol(), outputCol=\"hashes\")\n",
        "model = mLSH.fit(process)\n",
        "\n",
        "model.transform(process).head()"
      ]
    },
    {
      "cell_type": "code",
      "execution_count": null,
      "metadata": {
        "id": "88zWqEqU-8rA"
      },
      "outputs": [],
      "source": [
        "distance = model.approxSimilarityJoin(key, process, 1.0, distCol=\"Jaccard Distance\").select(\n",
        "            col(\"datasetA.id\").alias(\"idA\"),\n",
        "            col(\"datasetB.id\").alias(\"idB\"),\n",
        "            col(\"Jaccard Distance\"))"
      ]
    },
    {
      "cell_type": "code",
      "execution_count": null,
      "metadata": {
        "id": "H6BDpKHz-8rA",
        "outputId": "32845ff1-b44f-4966-9b36-17787cfb8b2c"
      },
      "outputs": [
        {
          "name": "stdout",
          "output_type": "stream",
          "text": [
            "+---+------+------------------+\n",
            "|idA|   idB|  Jaccard Distance|\n",
            "+---+------+------------------+\n",
            "|  0|125634|0.9545454545454546|\n",
            "|  0| 64064|0.9523809523809523|\n",
            "|  0|226270|0.9444444444444444|\n",
            "|  0|219715|0.9444444444444444|\n",
            "|  0|188464|0.9444444444444444|\n",
            "|  0|187994|0.9444444444444444|\n",
            "|  0| 90318|0.9411764705882353|\n",
            "|  0|173632|0.9411764705882353|\n",
            "|  0|202655|            0.9375|\n",
            "|  0|148175|            0.9375|\n",
            "|  0| 31656|            0.9375|\n",
            "|  0| 92360|            0.9375|\n",
            "|  0|219484|0.9285714285714286|\n",
            "|  0| 30105|0.9285714285714286|\n",
            "|  0|203650|0.9285714285714286|\n",
            "|  0|208340|0.9285714285714286|\n",
            "|  0|166389|0.9285714285714286|\n",
            "|  0|187808|0.9285714285714286|\n",
            "|  0|155230|0.9285714285714286|\n",
            "|  0|265657|0.9285714285714286|\n",
            "+---+------+------------------+\n",
            "only showing top 20 rows\n",
            "\n"
          ]
        }
      ],
      "source": [
        "distance.sort(col('Jaccard Distance').desc()).show()"
      ]
    },
    {
      "cell_type": "code",
      "execution_count": null,
      "metadata": {
        "id": "KZl80jR4-8rA"
      },
      "outputs": [],
      "source": [
        "from pyspark.sql.types import DoubleType\n",
        "\n",
        "@F.udf(returnType=DoubleType())\n",
        "def cos_sim(u, v):\n",
        "  return float( u.dot(v) / (u.norm(2) * v.norm(2)) )"
      ]
    },
    {
      "cell_type": "code",
      "execution_count": null,
      "metadata": {
        "id": "Cu9WFTg_-8rA"
      },
      "outputs": [],
      "source": [
        "join = key.alias(\"x\").join(data.alias(\"y\"), col(\"y.id\") > col(\"x.id\"))"
      ]
    },
    {
      "cell_type": "code",
      "execution_count": null,
      "metadata": {
        "id": "PU0zNPNe-8rA"
      },
      "outputs": [],
      "source": [
        "combines = join.withColumn(\"cos_sim\", cos_sim(col(\"x.feature\"), col(\"y.feature\"))).na.fill({\"cos_sim\": 0.0})"
      ]
    },
    {
      "cell_type": "code",
      "execution_count": null,
      "metadata": {
        "id": "te508n1t-8rB"
      },
      "outputs": [],
      "source": [
        "sort = combines.select(col(\"y.id\").alias(\"idA\"), col(\"x.id\").alias(\"idB\"), col(\"cos_sim\")).filter(col('cos_sim') != 0.0).sort(col(\"cos_sim\").desc())"
      ]
    },
    {
      "cell_type": "code",
      "execution_count": null,
      "metadata": {
        "id": "hfCoK7Lc-8rB",
        "outputId": "d65cc29c-97e1-4a83-a4bc-d280eef8fa34"
      },
      "outputs": [
        {
          "name": "stdout",
          "output_type": "stream",
          "text": [
            "+------+---+------------------+\n",
            "|   idA|idB|           cos_sim|\n",
            "+------+---+------------------+\n",
            "|119881|  0|               1.0|\n",
            "|270877|  0| 0.996632976935182|\n",
            "| 52090|  0|0.8049474444492108|\n",
            "|235664|  0|0.7868147417652676|\n",
            "|219899|  0|0.7505757547261467|\n",
            "| 23618|  0|0.7459646083656141|\n",
            "| 47012|  0|0.7459646083656141|\n",
            "|121179|  0|0.7019219054606646|\n",
            "| 45468|  0|0.6126555112364798|\n",
            "|132058|  0|0.6126555112364798|\n",
            "|205423|  0|  0.55727520935378|\n",
            "| 54176|  0|  0.55727520935378|\n",
            "| 53644|  0|0.5310930391551143|\n",
            "|151064|  0|0.5310930391551143|\n",
            "| 27647|  0|0.5310930391551143|\n",
            "| 36442|  0|0.5260695531149168|\n",
            "|166189|  0|0.5246712644404072|\n",
            "| 76611|  0|0.5246712644404072|\n",
            "|232381|  0|0.5242939644307556|\n",
            "| 36373|  0|0.5207578221088831|\n",
            "+------+---+------------------+\n",
            "only showing top 20 rows\n",
            "\n"
          ]
        }
      ],
      "source": [
        "sort.show()"
      ]
    },
    {
      "cell_type": "code",
      "execution_count": null,
      "metadata": {
        "id": "uVb_rjpQ-8rB",
        "outputId": "c3498aa3-7f08-4db2-adff-753a3900f2d3"
      },
      "outputs": [
        {
          "name": "stdout",
          "output_type": "stream",
          "text": [
            "+--------------------------------------+\n",
            "|sentences                             |\n",
            "+--------------------------------------+\n",
            "|the dead zone stephen king signet book|\n",
            "+--------------------------------------+\n",
            "\n"
          ]
        }
      ],
      "source": [
        "data.filter(col('id') == 0).select('sentences').show(truncate=False)"
      ]
    },
    {
      "cell_type": "code",
      "execution_count": null,
      "metadata": {
        "id": "8K3cW8lt-8rB"
      },
      "outputs": [],
      "source": [
        "merge = process.alias(\"x\").join(distance.alias(\"y\"), col(\"x.id\")==col(\"y.idB\"))"
      ]
    },
    {
      "cell_type": "code",
      "execution_count": null,
      "metadata": {
        "id": "AiZ57LEZ-8rB",
        "outputId": "888e62c0-226d-4bda-a495-ae089dfd9de9"
      },
      "outputs": [
        {
          "name": "stdout",
          "output_type": "stream",
          "text": [
            "+--------------------------------------------------------------------------------------------------------+------------------+\n",
            "|sentences                                                                                               |Jaccard Distance  |\n",
            "+--------------------------------------------------------------------------------------------------------+------------------+\n",
            "|get lost becka level start to read trade edition ser shirley simon school zone publishing company       |0.9545454545454546|\n",
            "|jog frog jog level start to read library edition series barbara gregorich school zone publishing company|0.9523809523809523|\n",
            "|danger zone hardy boys case file danger zone hardy boys casefiles no franklin w dixon simon pulse       |0.9444444444444444|\n",
            "|big third and fourth grade not applicable na school zone publishing company                             |0.9444444444444444|\n",
            "|philo fortune s awesome journey to his comfort zone julian f thompson disney pr                         |0.9444444444444444|\n",
            "|alien zone cultural theory and contemporary science fiction cinema annette kuhn verso                   |0.9444444444444444|\n",
            "|hot zone richard preston droemersche verlagsanstalt th knaur nachf gmbh co                              |0.9411764705882353|\n",
            "|night call from a distant time zone herbert lieberman new american library                              |0.9411764705882353|\n",
            "|good night mummy shadow zone j r black random house childrens pub                                       |0.9375            |\n",
            "|danger zone hardy boys casefiles hardy boys casefiles no franklin w dixon simon pulse                   |0.9375            |\n",
            "|multiplication and division grades martha palmer school zone publishing company                         |0.9375            |\n",
            "|beep beep start to read barbara gregorich school zone publishing company                                |0.9375            |\n",
            "|lost soul extreme zone extreme zone no m c sumner simon pulse                                           |0.9285714285714286|\n",
            "|hot zone chicago heat harlequin blaze patricia rosemoor harlequin                                       |0.9285714285714286|\n",
            "|meltdown man cyber zone no s f black troll communications                                               |0.9285714285714286|\n",
            "|unseen powers extreme zone extreme zone no m c sumner simon pulse                                       |0.9285714285714286|\n",
            "|phonics blends phonics review phonics deluxe school zone school zone publishing company                 |0.9285714285714286|\n",
            "|sky scare nick zone bobby jg weiss scholastic                                                           |0.9285714285714286|\n",
            "|killing zone can frederick downs berkley publishing group                                               |0.9285714285714286|\n",
            "|good night barbara gregorich school zone publishing company                                             |0.9285714285714286|\n",
            "+--------------------------------------------------------------------------------------------------------+------------------+\n",
            "only showing top 20 rows\n",
            "\n"
          ]
        }
      ],
      "source": [
        "merge.select('sentences', 'Jaccard Distance').sort(col('Jaccard Distance').desc()).show(truncate=False)"
      ]
    },
    {
      "cell_type": "code",
      "execution_count": null,
      "metadata": {
        "id": "DhCOLGHq-8rB"
      },
      "outputs": [],
      "source": [
        "merge_cosim = process.alias(\"x\").join(sort.alias(\"y\"), col(\"x.id\") == col(\"y.idA\"))"
      ]
    },
    {
      "cell_type": "code",
      "execution_count": null,
      "metadata": {
        "id": "G6epC2NY-8rG",
        "outputId": "5944879c-45d9-4a34-a0e4-83defef83844"
      },
      "outputs": [
        {
          "name": "stdout",
          "output_type": "stream",
          "text": [
            "+--------------------------------------+\n",
            "|sentences                             |\n",
            "+--------------------------------------+\n",
            "|the dead zone stephen king signet book|\n",
            "+--------------------------------------+\n",
            "\n"
          ]
        }
      ],
      "source": [
        "data.filter(col('id') == 0).select('sentences').show(truncate=False)"
      ]
    },
    {
      "cell_type": "code",
      "execution_count": null,
      "metadata": {
        "id": "8kArm6uB-8rG"
      },
      "outputs": [],
      "source": [
        "merges = merge_cosim.select('sentences', 'cos_sim').sort(col('cos_sim').desc())"
      ]
    },
    {
      "cell_type": "code",
      "execution_count": null,
      "metadata": {
        "id": "jQANekUY-8rG",
        "outputId": "d7513ebd-b3ea-4715-a81a-2085ed3cd97a"
      },
      "outputs": [
        {
          "name": "stdout",
          "output_type": "stream",
          "text": [
            "+----------------------------------------------------------------+------------------+\n",
            "|sentences                                                       |cos_sim           |\n",
            "+----------------------------------------------------------------+------------------+\n",
            "|the dead zone stephen king signet book                          |1.0               |\n",
            "|dead zone stephen king signet book                              |0.996632976935182 |\n",
            "|the dead zone stephen king viking books                         |0.8049474444492108|\n",
            "|dead zone stephen king lgf                                      |0.7868147417652676|\n",
            "|the dead zone stephen king new amer library                     |0.7505757547261467|\n",
            "|dead zone stephen king penguin putnam mass                      |0.7459646083656141|\n",
            "|dead zone stephen king penguin putnam mass                      |0.7459646083656141|\n",
            "|the dead zone stephen king sagebrush bound                      |0.7019219054606646|\n",
            "|it r stephen king signet book                                   |0.6126555112364798|\n",
            "|it stephen king signet book                                     |0.6126555112364798|\n",
            "|christine stephen king signet book                              |0.55727520935378  |\n",
            "|christine stephen king signet book                              |0.55727520935378  |\n",
            "|stand stephen king signet book                                  |0.5310930391551143|\n",
            "|stand stephen king signet book                                  |0.5310930391551143|\n",
            "|stand stephen king signet book                                  |0.5310930391551143|\n",
            "|dead zone charnwood library stephen king ulverscroft large print|0.5260695531149168|\n",
            "|the running man stephen king signet book                        |0.5246712644404072|\n",
            "|the running man stephen king signet book                        |0.5246712644404072|\n",
            "|dead man s coast peter king signet book                         |0.5242939644307556|\n",
            "|carrie stephen king signet book                                 |0.5207578221088831|\n",
            "+----------------------------------------------------------------+------------------+\n",
            "only showing top 20 rows\n",
            "\n"
          ]
        }
      ],
      "source": [
        "merges.show(truncate=False)"
      ]
    },
    {
      "cell_type": "code",
      "execution_count": null,
      "metadata": {
        "id": "pGj0aDQi-8rG"
      },
      "outputs": [],
      "source": [
        "merge_cos_jac = distance.alias(\"x\").join(sort.alias(\"y\"), col(\"x.idB\")==col(\"y.idA\"))"
      ]
    },
    {
      "cell_type": "code",
      "execution_count": null,
      "metadata": {
        "id": "vbQ-ZBH1-8rG",
        "outputId": "98c7b964-47bd-466c-8586-768dfbfc8697"
      },
      "outputs": [
        {
          "name": "stdout",
          "output_type": "stream",
          "text": [
            "+---+------+------------------+------+---+-------------------+\n",
            "|idA|   idB|  Jaccard Distance|   idA|idB|            cos_sim|\n",
            "+---+------+------------------+------+---+-------------------+\n",
            "|  0|270877|0.1428571428571429|270877|  0|  0.996632976935182|\n",
            "|  0| 63793|0.9047619047619048| 63793|  0|0.18093264137941115|\n",
            "|  0|127325|0.9285714285714286|127325|  0| 0.3116162047385759|\n",
            "|  0| 36442|0.6666666666666667| 36442|  0| 0.5260695531149168|\n",
            "|  0|173147|0.9130434782608696|173147|  0|0.15455880905738226|\n",
            "|  0|202655|            0.9375|202655|  0|0.19991466493064075|\n",
            "|  0|255732|0.8571428571428572|255732|  0|0.20411406059660073|\n",
            "|  0|262025|               0.7|262025|  0| 0.3846901483586561|\n",
            "|  0|111215|             0.875|111215|  0|0.31092064911223105|\n",
            "|  0| 92360|            0.9375| 92360|  0|0.13879752516086455|\n",
            "|  0| 29442|0.8571428571428572| 29442|  0|  0.187793092698951|\n",
            "|  0| 56948|0.8571428571428572| 56948|  0|0.17842693376785196|\n",
            "|  0|  6717|0.9130434782608696|  6717|  0|0.16829616456864754|\n",
            "|  0|237162|0.8333333333333334|237162|  0|0.27846159300049494|\n",
            "|  0|151932|0.8666666666666667|151932|  0| 0.1959101920600602|\n",
            "|  0| 23618|               0.6| 23618|  0| 0.7459646083656141|\n",
            "|  0|241133|0.8947368421052632|241133|  0|0.21157860832211864|\n",
            "|  0|155230|0.9285714285714286|155230|  0| 0.2165957659290486|\n",
            "|  0|137714|0.9090909090909091|137714|  0| 0.2780719287083069|\n",
            "|  0|194510|             0.875|194510|  0|0.20697333446844782|\n",
            "+---+------+------------------+------+---+-------------------+\n",
            "only showing top 20 rows\n",
            "\n"
          ]
        }
      ],
      "source": [
        "merge_cos_jac.show()"
      ]
    },
    {
      "cell_type": "code",
      "execution_count": null,
      "metadata": {
        "id": "VFmrzHoe-8rH"
      },
      "outputs": [],
      "source": [
        "rdd = merge_cos_jac.rdd.map(lambda x: (x[1], (x[5] + x[2])/2))"
      ]
    },
    {
      "cell_type": "code",
      "execution_count": null,
      "metadata": {
        "id": "0asuONRk-8rH"
      },
      "outputs": [],
      "source": [
        "conv = rdd.toDF([\"id\", \"distance\"])"
      ]
    },
    {
      "cell_type": "code",
      "execution_count": null,
      "metadata": {
        "id": "BV_e-MWt-8rH",
        "outputId": "eb9ba354-7b32-46be-8aca-4e492bbc56cf"
      },
      "outputs": [
        {
          "name": "stdout",
          "output_type": "stream",
          "text": [
            "+------+------------------+\n",
            "|    id|          distance|\n",
            "+------+------------------+\n",
            "| 23618| 0.672982304182807|\n",
            "| 47012| 0.672982304182807|\n",
            "|235664|0.6434073708826338|\n",
            "|219899|0.6252878773630733|\n",
            "|127325|0.6200938166550023|\n",
            "|219484|0.6128757871932898|\n",
            "|265657|0.6127463944620797|\n",
            "| 30519|0.6097730881484292|\n",
            "| 57094|0.5997803628466483|\n",
            "|219715|0.5975543398668348|\n",
            "| 36442|0.5963681098907918|\n",
            "|137714| 0.593581418899608|\n",
            "|111215|0.5929603245561155|\n",
            "|187808|0.5879022850691846|\n",
            "|148175|0.5867589396998891|\n",
            "|166389|0.5848463349461377|\n",
            "| 73756|0.5832734458194512|\n",
            "|152155| 0.582572935662197|\n",
            "| 50634|0.5799151655000772|\n",
            "|  2056|0.5787925259826765|\n",
            "+------+------------------+\n",
            "only showing top 20 rows\n",
            "\n"
          ]
        }
      ],
      "source": [
        "conv.sort(col('distance').desc()).show()"
      ]
    },
    {
      "cell_type": "code",
      "execution_count": null,
      "metadata": {
        "id": "bc5omhoP-8rH"
      },
      "outputs": [],
      "source": [
        "merge = process.alias(\"x\").join(conv.alias(\"y\"), col(\"x.id\")==col(\"y.id\"))"
      ]
    },
    {
      "cell_type": "code",
      "execution_count": null,
      "metadata": {
        "id": "S4G-aAVX-8rH",
        "outputId": "83f8395a-6b91-49ef-fa6e-fb999fcbcf68"
      },
      "outputs": [
        {
          "data": {
            "text/plain": [
              "99"
            ]
          },
          "execution_count": 55,
          "metadata": {},
          "output_type": "execute_result"
        }
      ],
      "source": [
        "merge.select('sentences', 'distance').sort(col('distance').desc()).count()"
      ]
    }
  ],
  "metadata": {
    "colab": {
      "provenance": []
    },
    "kernelspec": {
      "display_name": "Python 3 (ipykernel)",
      "language": "python",
      "name": "python3"
    },
    "language_info": {
      "codemirror_mode": {
        "name": "ipython",
        "version": 3
      },
      "file_extension": ".py",
      "mimetype": "text/x-python",
      "name": "python",
      "nbconvert_exporter": "python",
      "pygments_lexer": "ipython3",
      "version": "3.10.6"
    }
  },
  "nbformat": 4,
  "nbformat_minor": 0
}