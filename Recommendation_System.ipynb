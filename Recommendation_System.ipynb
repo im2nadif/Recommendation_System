{
  "cells": [
    {
      "cell_type": "markdown",
      "metadata": {
        "id": "snonU7FS--3e"
      },
      "source": [
        "Link Dataset : https://www.kaggle.com/datasets/ruchi798/bookcrossing-dataset"
      ]
    },
    {
      "cell_type": "markdown",
      "metadata": {
        "id": "vL9S0Ri---3n"
      },
      "source": [
        "# Setup Environment"
      ]
    },
    {
      "cell_type": "code",
      "execution_count": null,
      "metadata": {
        "id": "soA9zW1---3n"
      },
      "outputs": [],
      "source": [
        "import findspark\n",
        "findspark.init()"
      ]
    },
    {
      "cell_type": "code",
      "execution_count": null,
      "metadata": {
        "id": "XtyTgM6gBNd7"
      },
      "outputs": [],
      "source": [
        "from pyspark.sql import SparkSession\n",
        "\n",
        "spark = SparkSession.builder\\\n",
        "        .master(\"local\")\\\n",
        "        .appName(\"UAS\")\\\n",
        "        .config('spark.ui.port', '5050')\\\n",
        "        .getOrCreate()"
      ]
    },
    {
      "cell_type": "markdown",
      "metadata": {
        "id": "zj-x2SqQ--3o"
      },
      "source": [
        "# Content Based Filtering"
      ]
    },
    {
      "cell_type": "markdown",
      "metadata": {
        "id": "nieXvU7f--3o"
      },
      "source": [
        "## Data Cleaning"
      ]
    },
    {
      "cell_type": "code",
      "execution_count": null,
      "metadata": {
        "id": "Ln4lRan9--3o"
      },
      "outputs": [],
      "source": [
        "from pyspark.sql.functions import concat, col, lit, lower, regexp_replace, monotonically_increasing_id\n",
        "import re\n",
        "\n",
        "books = spark.read.option(\"header\", \"true\").option(\"delimiter\",\";\").csv(\"BX_Books.csv\")\n",
        "books = books.drop(\"Image-URL-S\", \"Image-URL-M\", \"Image-URL-L\")\\\n",
        "             .select(\"ISBN\", concat(col(\"Book-Title\"), lit(' '), col(\"Book-Author\"), lit(' '), col(\"Publisher\")).alias('sentences'))\\\n",
        "             .withColumn(\"sentences\", lower(\"sentences\"))\\\n",
        "             .withColumn(\"sentences\", regexp_replace(\"sentences\", \"[^a-zA-Z\\\\s]\", \"  \"))\\\n",
        "             .withColumn(\"sentences\", regexp_replace(\"sentences\", \"\\s+\", \" \"))\\\n",
        "             .distinct()\\\n",
        "             .withColumn(\"id\", monotonically_increasing_id())\\\n",
        "             .select(\"id\",\"ISBN\",\"sentences\")\\\n",
        "             .na.drop()"
      ]
    },
    {
      "cell_type": "markdown",
      "metadata": {
        "id": "iAVFOQUZ--3p"
      },
      "source": [
        "## Stop Words (NLTK), Tokenizer, \"Alphabet\" Stop Remover (PySpark), TF-IDF, Normalizer"
      ]
    },
    {
      "cell_type": "code",
      "execution_count": null,
      "metadata": {
        "id": "eakppSCh--3p",
        "outputId": "10c4e4ad-0992-4a36-c811-1ea19c466fe1"
      },
      "outputs": [
        {
          "name": "stderr",
          "output_type": "stream",
          "text": [
            "[nltk_data] Downloading package stopwords to C:\\Users\\Ilham Mafani\n",
            "[nltk_data]     Nadif\\AppData\\Roaming\\nltk_data...\n",
            "[nltk_data]   Package stopwords is already up-to-date!\n"
          ]
        }
      ],
      "source": [
        "import string\n",
        "import nltk\n",
        "from nltk.corpus import stopwords\n",
        "from pyspark.ml.feature import Tokenizer, StopWordsRemover, HashingTF, IDF, Normalizer\n",
        "from pyspark.sql import functions as F\n",
        "from pyspark.sql.types import DoubleType\n",
        "\n",
        "nltk.download('stopwords')\n",
        "\n",
        "def pipeline(dataframe):\n",
        "    stop_words = stopwords.words('english')\n",
        "\n",
        "    remove = dataframe.rdd.filter(lambda x: x[2] not in stop_words)\n",
        "    stop = remove.toDF()\n",
        "\n",
        "    tokenizer = Tokenizer(inputCol=\"sentences\", outputCol=\"words\")\n",
        "    token = tokenizer.transform(stop)\n",
        "\n",
        "    alphabet = list(string.ascii_lowercase)\n",
        "    remover = StopWordsRemover(stopWords=alphabet, inputCol=tokenizer.getOutputCol(), outputCol=\"filtered\")\n",
        "    removed = remover.transform(token)\n",
        "\n",
        "    hashingTF = HashingTF(inputCol=remover.getOutputCol(), outputCol=\"tf\")\n",
        "    tf = hashingTF.transform(removed)\n",
        "\n",
        "    idf = IDF(inputCol=hashingTF.getOutputCol(), outputCol=\"feature\").fit(tf)\n",
        "    tfidf = idf.transform(tf)\n",
        "\n",
        "    normalizer = Normalizer(inputCol=idf.getOutputCol(), outputCol=\"norm\")\n",
        "    data = normalizer.transform(tfidf)\n",
        "\n",
        "    return data"
      ]
    },
    {
      "cell_type": "markdown",
      "metadata": {
        "id": "srnpNLqN--3q"
      },
      "source": [
        "## Fungsi Perhitungan Cosine Similarity"
      ]
    },
    {
      "cell_type": "code",
      "execution_count": null,
      "metadata": {
        "id": "U1wrsvnN--3q"
      },
      "outputs": [],
      "source": [
        "@F.udf(returnType=DoubleType())\n",
        "def cos_sim(u, v):\n",
        "    return float( u.dot(v) / (u.norm(2) * v.norm(2)) )"
      ]
    },
    {
      "cell_type": "markdown",
      "metadata": {
        "id": "EX3jB1Uz--3q"
      },
      "source": [
        "## Cari Buku Berdasarkan Keyword (Cosine Similarity)"
      ]
    },
    {
      "cell_type": "code",
      "execution_count": null,
      "metadata": {
        "id": "tZncxsOF--3q"
      },
      "outputs": [],
      "source": [
        "def cari_kata(keyword, data):\n",
        "    rdd = [(0, 0, keyword)]\n",
        "    df = spark.createDataFrame(data=rdd, schema=[\"id\",\"ISBN\",\"sentences\"])\n",
        "    df =  df.withColumn(\"sentences\", lower(\"sentences\"))\\\n",
        "            .withColumn(\"sentences\", regexp_replace(\"sentences\", \"[^a-zA-Z\\\\s]\", \"  \"))\\\n",
        "            .withColumn(\"sentences\", regexp_replace(\"sentences\", \"\\s+\", \" \"))\n",
        "\n",
        "    dataframe = data.union(df).sort(col('id').asc())\n",
        "\n",
        "    data = pipeline(dataframe)\n",
        "    key = data.filter(col('id') == 0).limit(1)\n",
        "\n",
        "    join = key.alias(\"x\").join(data.alias(\"y\"), col(\"y.id\") > col(\"x.id\"))\n",
        "    combines = join.withColumn(\"cos_sim\", cos_sim(col(\"x.feature\"), col(\"y.feature\"))).na.fill({\"cos_sim\": 0.0})\n",
        "    sort = combines.select(col(\"y.id\").alias(\"idA\"), col(\"x.id\").alias(\"idB\"), col(\"cos_sim\")).filter(col('cos_sim') != 0.0)\n",
        "\n",
        "    merge_cosim = sort.alias(\"x\").join(data.alias(\"y\"), col(\"x.idA\") == col(\"y.id\")).select('sentences', 'cos_sim').sort(col(\"cos_sim\").desc())\n",
        "\n",
        "    rows = sort.count()\n",
        "    print(f\"Hasil pencarian sebanyak : {rows}\")\n",
        "    return merge_cosim.show(truncate=False)"
      ]
    },
    {
      "cell_type": "code",
      "execution_count": null,
      "metadata": {
        "id": "T96FmMCi--3r",
        "outputId": "5bf4642f-5fc2-4dd8-bd18-2d05e7f383a5"
      },
      "outputs": [
        {
          "name": "stdout",
          "output_type": "stream",
          "text": [
            "Hasil pencarian sebanyak : 107881\n",
            "+----------------------------------------------------------------+------------------+\n",
            "|sentences                                                       |cos_sim           |\n",
            "+----------------------------------------------------------------+------------------+\n",
            "|the dead zone stephen king signet book                          |0.9999999999999998|\n",
            "|dead zone stephen king signet book                              |0.9966328527287398|\n",
            "|the dead zone stephen king viking books                         |0.8049413742097962|\n",
            "|dead zone stephen king lgf                                      |0.7868082232579019|\n",
            "|the dead zone stephen king new amer library                     |0.7505685784376874|\n",
            "|dead zone stephen king penguin putnam mass                      |0.7459572560018076|\n",
            "|dead zone stephen king penguin putnam mass                      |0.7459572560018076|\n",
            "|the dead zone stephen king sagebrush bound                      |0.7019140884475865|\n",
            "|it r stephen king signet book                                   |0.6126410252059585|\n",
            "|it stephen king signet book                                     |0.6126410252059585|\n",
            "|christine stephen king signet book                              |0.5572596945204127|\n",
            "|christine stephen king signet book                              |0.5572596945204127|\n",
            "|stand stephen king signet book                                  |0.5310772762379625|\n",
            "|stand stephen king signet book                                  |0.5310772762379625|\n",
            "|stand stephen king signet book                                  |0.5310772762379625|\n",
            "|dead zone charnwood library stephen king ulverscroft large print|0.5260609224965259|\n",
            "|the running man stephen king signet book                        |0.5246556529029448|\n",
            "|the running man stephen king signet book                        |0.5246556529029448|\n",
            "|dead man s coast peter king signet book                         |0.5242793257754446|\n",
            "|carrie stephen king signet book                                 |0.5207420008909307|\n",
            "+----------------------------------------------------------------+------------------+\n",
            "only showing top 20 rows\n",
            "\n"
          ]
        }
      ],
      "source": [
        "cari_kata(\"king midas\", books)"
      ]
    },
    {
      "cell_type": "markdown",
      "metadata": {
        "id": "DuDb_Ogo--3r"
      },
      "source": [
        "## Jaccard Distance"
      ]
    },
    {
      "cell_type": "code",
      "execution_count": null,
      "metadata": {
        "id": "30AQyWFR--3r"
      },
      "outputs": [],
      "source": [
        "from pyspark.ml.feature import MinHashLSH, MinHashLSHModel\n",
        "from pyspark.ml.linalg import Vector\n",
        "\n",
        "def cari_kata_jac(keyword, data):\n",
        "    rdd = [(0, 0, keyword)]\n",
        "    df = spark.createDataFrame(data=rdd, schema=[\"id\",\"ISBN\",\"sentences\"])\n",
        "    df = df.withColumn(\"sentences\", lower(\"sentences\"))\\\n",
        "           .withColumn(\"sentences\", regexp_replace(\"sentences\", \"[^a-zA-Z\\\\s]\", \"  \"))\\\n",
        "           .withColumn(\"sentences\", regexp_replace(\"sentences\", \"\\s+\", \" \"))\n",
        "\n",
        "    dataframe = data.union(df).sort(col('id').asc())\n",
        "\n",
        "    data = pipeline(dataframe)\n",
        "    key = data.filter(col('id') == 0).limit(1)\n",
        "    process = data.filter(col('id') != 0)\n",
        "\n",
        "    mLSH = MinHashLSH(inputCol=\"norm\", outputCol=\"hashes\")\n",
        "    model = mLSH.fit(data)\n",
        "\n",
        "    distance = model.approxSimilarityJoin(key, process, 1.0, distCol=\"Jaccard_Distance\").select(\n",
        "            col(\"datasetA.id\").alias(\"idA\"),\n",
        "            col(\"datasetB.id\").alias(\"idB\"),\n",
        "            col(\"Jaccard_Distance\"))\n",
        "\n",
        "    merge_jac = distance.alias(\"x\").join(data.alias(\"y\"), col(\"x.idB\") == col(\"y.id\")).select('sentences', 'Jaccard_Distance').sort(col(\"Jaccard_Distance\").desc())\n",
        "\n",
        "    rows = merge_jac.count()\n",
        "    print(f\"Hasil pencarian sebanyak : {rows}\")\n",
        "    return merge_jac.show(truncate=False)"
      ]
    },
    {
      "cell_type": "markdown",
      "metadata": {
        "id": "oK8S-PvI--3r"
      },
      "source": [
        "## Cari Kata Berdasarkan Jaccard Distance"
      ]
    },
    {
      "cell_type": "code",
      "execution_count": null,
      "metadata": {
        "id": "veU_Q6rX--3r",
        "outputId": "d6a693ed-daf7-49c6-8685-f78ae691128d"
      },
      "outputs": [
        {
          "name": "stdout",
          "output_type": "stream",
          "text": [
            "Hasil pencarian sebanyak : 569\n",
            "+-----------------------------------------------------------------------------------------------------------------------+------------------+\n",
            "|sentences                                                                                                              |Jaccard_Distance  |\n",
            "+-----------------------------------------------------------------------------------------------------------------------+------------------+\n",
            "|king midas with selected sentences in american sign language nathaniel hawthorne gallaudet university press            |0.95              |\n",
            "|larry l king a writer s life in letters or reflections in a bloodshot eye larry l king texas christian university press|0.95              |\n",
            "|a connecticut yankee in king arthur s court worlds best reading mark twain putnam pub group                            |0.95              |\n",
            "|a connecticut yankee in king arthur s court oxford world s classics mark twain oxford university press                 |0.9473684210526316|\n",
            "|once a warrior king memoirs of an officer in vietnam david donovan ballantine books                                    |0.9473684210526316|\n",
            "|connecticut yankee in king arthur s court mark twain new amer library classics                                         |0.9444444444444444|\n",
            "|a connecticut yankee in king arthur s court barnes noble classics mark twain barnes noble books                        |0.9444444444444444|\n",
            "|flivver king a story of ford america upton sinclair charles h kerr pub co                                              |0.9444444444444444|\n",
            "|king s quest mask of eternity prima s official strategy guide rick barba prima lifestyles                              |0.9444444444444444|\n",
            "|ein schweinchen namens kreuz ass ab j dick king smith fischer tb frankfurt                                             |0.9444444444444444|\n",
            "|hogsel and gruntel read it yourself dick king smith penguin uk                                                         |0.9411764705882353|\n",
            "|a different mirror a history of multicultural america ronald takaki little brown co                                    |0.9411764705882353|\n",
            "|king for israel frank penny lion story bible penny frank cook communications ministries j                              |0.9411764705882353|\n",
            "|a connecticut yankee in king arthur s court bantam classic mark twain bantam books                                     |0.9411764705882353|\n",
            "|tales from king arthur wordsworth collection lang ntc contemporary publishing company                                  |0.9411764705882353|\n",
            "|a connecticut yankee at king arthur s court penguin classics mark twain penguin books                                  |0.9411764705882353|\n",
            "|blood lust portrait of a serial sex killer gary c king onyx books                                                      |0.9411764705882353|\n",
            "|dictionary of abbreviations and acronyms one hour wordpower s graham king mandarin                                     |0.9411764705882353|\n",
            "|king harald s saga harald hardradi of norway snorri sturluson marboro books                                            |0.9375            |\n",
            "|florence wonders of man francis henry king w w norton co inc                                                           |0.9375            |\n",
            "+-----------------------------------------------------------------------------------------------------------------------+------------------+\n",
            "only showing top 20 rows\n",
            "\n"
          ]
        }
      ],
      "source": [
        "cari_kata_jac(\"test\", books)"
      ]
    },
    {
      "cell_type": "markdown",
      "metadata": {
        "tags": [],
        "id": "oXcFZXXV--3s"
      },
      "source": [
        "# Collaborative Filtering (Model Based)"
      ]
    },
    {
      "cell_type": "markdown",
      "metadata": {
        "tags": [],
        "id": "eP-qDN6s--3s"
      },
      "source": [
        "## Data Cleaning"
      ]
    },
    {
      "cell_type": "code",
      "execution_count": null,
      "metadata": {
        "id": "ns7tZfjY--3s"
      },
      "outputs": [],
      "source": [
        "from pyspark.sql.functions import col\n",
        "\n",
        "ratings = spark.read.option(\"header\", \"true\").option(\"delimiter\",\";\").csv(\"BX-Book-Ratings.csv\")\n",
        "ratings = ratings.withColumnRenamed(\"Book-Rating\",\"rating\")\\\n",
        "                 .withColumnRenamed(\"User-ID\",\"userId\")\\\n",
        "                 .withColumn('userId', col('userId').cast('integer'))\\\n",
        "                 .withColumn('ISBN', col('ISBN').cast('integer'))\\\n",
        "                 .withColumn('rating', col('rating').cast('double'))\n",
        "\n",
        "ratings = ratings.na.fill({\"rating\": 0.0}).na.drop()"
      ]
    },
    {
      "cell_type": "markdown",
      "metadata": {
        "id": "U8tzKILC--3s"
      },
      "source": [
        "## Splitting Data & Limit Data"
      ]
    },
    {
      "cell_type": "code",
      "execution_count": null,
      "metadata": {
        "id": "oKCAOpfe--3s"
      },
      "outputs": [],
      "source": [
        "train = ratings.limit(200000)\n",
        "(training, test) = train.randomSplit([0.8, 0.2], seed = None)"
      ]
    },
    {
      "cell_type": "markdown",
      "metadata": {
        "id": "F9REvRdH--3s"
      },
      "source": [
        "## ALS Configuration & Tuning Cross Validator"
      ]
    },
    {
      "cell_type": "code",
      "execution_count": null,
      "metadata": {
        "id": "UkIJx4z0--3t"
      },
      "outputs": [],
      "source": [
        "from pyspark.ml.recommendation import ALS\n",
        "from pyspark.ml.tuning import ParamGridBuilder, CrossValidator\n",
        "from pyspark.ml.evaluation import RegressionEvaluator\n",
        "\n",
        "als = ALS(userCol=\"userId\", itemCol=\"ISBN\", ratingCol=\"rating\", coldStartStrategy=\"drop\", nonnegative = True, implicitPrefs = False)\n",
        "evaluator = RegressionEvaluator(metricName=\"rmse\", labelCol=\"rating\", predictionCol=\"prediction\")\n",
        "\n",
        "param_grid = ParamGridBuilder()\\\n",
        "                .addGrid(als.rank, [10, 50, 100, 150]) \\\n",
        "                .addGrid(als.regParam, [.01, .05, .1, .15]) \\\n",
        "                .addGrid(als.maxIter, [20]) \\\n",
        "                .build()\n",
        "\n",
        "cv = CrossValidator(estimator=als, estimatorParamMaps=param_grid, evaluator=evaluator)"
      ]
    },
    {
      "cell_type": "markdown",
      "metadata": {
        "id": "yGxk5lmh--3t"
      },
      "source": [
        "## Data Training"
      ]
    },
    {
      "cell_type": "code",
      "execution_count": null,
      "metadata": {
        "id": "0O4CzcLb--3t"
      },
      "outputs": [],
      "source": [
        "model = cv.fit(training)\n",
        "best_model = model.bestModel"
      ]
    },
    {
      "cell_type": "markdown",
      "metadata": {
        "id": "HsyO2MUA--3t"
      },
      "source": [
        "## Mencari Model Terbaik dari Tuning"
      ]
    },
    {
      "cell_type": "code",
      "execution_count": null,
      "metadata": {
        "id": "1hHqb4Mo--3t",
        "outputId": "3d3ecc33-e33b-435f-f7de-7095af7e08c9"
      },
      "outputs": [
        {
          "name": "stdout",
          "output_type": "stream",
          "text": [
            "Rank: 100\n",
            "MaxIter: 20\n",
            "RegParam: 0.15\n"
          ]
        }
      ],
      "source": [
        "print(\"Rank:\", best_model._java_obj.parent().getRank())\n",
        "print(\"MaxIter:\", best_model._java_obj.parent().getMaxIter())\n",
        "print(\"RegParam:\", best_model._java_obj.parent().getRegParam())"
      ]
    },
    {
      "cell_type": "markdown",
      "metadata": {
        "id": "aYmtPets--3t"
      },
      "source": [
        "## Menghitung Nilai Error (RMSE)"
      ]
    },
    {
      "cell_type": "code",
      "execution_count": null,
      "metadata": {
        "id": "pN11KQCb--3t",
        "outputId": "a55d7497-b694-4c70-8500-b13a0e252e14"
      },
      "outputs": [
        {
          "name": "stdout",
          "output_type": "stream",
          "text": [
            "RMSE 4.107358205351516\n"
          ]
        }
      ],
      "source": [
        "predictions = best_model.transform(test)\n",
        "RMSE = evaluator.evaluate(predictions)\n",
        "print(\"RMSE\", RMSE)"
      ]
    },
    {
      "cell_type": "markdown",
      "metadata": {
        "id": "5Ouqb6Cl--3t"
      },
      "source": [
        "## Hasil Rekomendasi berdasarkan Users"
      ]
    },
    {
      "cell_type": "code",
      "execution_count": null,
      "metadata": {
        "id": "lh08udoA--3u"
      },
      "outputs": [],
      "source": [
        "user = best_model.recommendForAllUsers(10)\n",
        "item = best_model.recommendForAllItems(10)"
      ]
    },
    {
      "cell_type": "code",
      "execution_count": null,
      "metadata": {
        "id": "g3ihRNdZ--3u",
        "outputId": "bbd76691-db9d-4495-9980-430714173c11"
      },
      "outputs": [
        {
          "name": "stdout",
          "output_type": "stream",
          "text": [
            "Item :  81835\n",
            "User :  16042\n"
          ]
        }
      ],
      "source": [
        "print(\"Item : \", item.count())\n",
        "print(\"User : \", user.count())"
      ]
    },
    {
      "cell_type": "code",
      "execution_count": null,
      "metadata": {
        "id": "z02F-fQx--3u",
        "outputId": "99f7225a-b4cc-4f2a-fa59-dbd557739aca"
      },
      "outputs": [
        {
          "name": "stdout",
          "output_type": "stream",
          "text": [
            "+-----+----------------------------------------------------------------------------------------------------------------------------------------------------------------------------------------------------+\n",
            "|ISBN |recommendations                                                                                                                                                                                     |\n",
            "+-----+----------------------------------------------------------------------------------------------------------------------------------------------------------------------------------------------------+\n",
            "|0    |[{24413, 11.008568}, {278465, 10.812599}, {52716, 10.115345}, {29205, 9.885187}, {49571, 9.725469}, {45465, 9.461636}, {10509, 9.354952}, {887, 9.23887}, {55413, 9.215725}, {15595, 8.97955}]      |\n",
            "|2    |[{6107, 9.912249}, {6238, 8.901433}, {28451, 8.535229}, {50068, 8.480941}, {37227, 8.232894}, {14764, 8.217067}, {33933, 8.070509}, {29204, 7.8758807}, {28634, 7.843046}, {30052, 7.62425}]        |\n",
            "|3    |[{278465, 9.23756}, {24413, 8.967526}, {29205, 8.268408}, {52716, 8.196543}, {49571, 7.745229}, {45465, 7.7280993}, {55413, 7.6565228}, {2861, 7.571782}, {25740, 7.535523}, {45078, 7.481644}]     |\n",
            "|5    |[{18309, 6.928177}, {39467, 5.7211647}, {54181, 5.380831}, {17906, 5.2059865}, {43481, 5.0594907}, {1211, 5.049248}, {26487, 4.971767}, {37989, 4.9280214}, {44987, 4.837828}, {45799, 4.837828}]   |\n",
            "|10   |[{41058, 8.492757}, {29553, 7.9076886}, {37227, 7.166121}, {30268, 6.8417487}, {1075, 6.5941358}, {47905, 6.4052453}, {47127, 6.3511386}, {277523, 6.309974}, {50129, 6.2499213}, {52233, 6.243452}]|\n",
            "|20   |[{41058, 9.554351}, {29553, 8.89615}, {37227, 8.061886}, {30268, 7.696968}, {1075, 7.418404}, {47905, 7.2059016}, {47127, 7.145031}, {277523, 7.0987215}, {50129, 7.031163}, {52233, 7.0238824}]    |\n",
            "|84   |[{100, 0.0}, {110, 0.0}, {190, 0.0}, {280, 0.0}, {300, 0.0}, {430, 0.0}, {440, 0.0}, {460, 0.0}, {500, 0.0}, {620, 0.0}]                                                                            |\n",
            "|90   |[{35997, 9.911495}, {43481, 9.549612}, {17734, 8.909083}, {32599, 8.332075}, {37227, 8.153949}, {37945, 8.145003}, {44252, 8.106477}, {28680, 8.039611}, {6611, 7.791733}, {40888, 7.790677}]       |\n",
            "|445  |[{48603, 9.912952}, {3543, 8.14064}, {28865, 7.965308}, {49324, 7.9106426}, {50984, 7.885488}, {10560, 7.869016}, {6611, 7.8273606}, {51511, 7.695981}, {17917, 7.686625}, {24299, 7.3386183}]      |\n",
            "|698  |[{6274, 7.741269}, {8068, 7.7123976}, {5275, 7.5532756}, {28688, 7.5080376}, {53750, 7.045982}, {27929, 6.8612466}, {5728, 6.849017}, {38555, 6.7235255}, {47465, 6.6555386}, {29184, 6.5633454}]   |\n",
            "|1400 |[{41700, 7.171294}, {44286, 4.92611}, {22439, 4.8123455}, {12611, 4.338507}, {28735, 4.195541}, {29598, 4.0584617}, {53304, 4.009959}, {12914, 3.991242}, {14393, 3.9749622}, {33933, 3.9238174}]   |\n",
            "|1401 |[{50956, 7.649111}, {8730, 6.2369943}, {37190, 5.897295}, {51986, 5.7104654}, {18753, 5.236077}, {38250, 5.045755}, {21620, 4.850539}, {32569, 4.842161}, {41088, 4.7097797}, {28177, 4.657669}]    |\n",
            "|1402 |[{52716, 9.683344}, {278465, 9.02291}, {24413, 8.259516}, {29205, 8.172232}, {49571, 7.4844484}, {887, 7.413561}, {10509, 7.41121}, {45465, 7.3112392}, {17984, 7.218328}, {50018, 7.0790486}]      |\n",
            "|1403 |[{37227, 9.629833}, {53707, 9.334158}, {33933, 9.145827}, {30590, 8.854757}, {43481, 8.816883}, {52521, 8.144116}, {17003, 8.094721}, {54161, 7.98409}, {6073, 7.714253}, {33124, 7.713754}]        |\n",
            "|1404 |[{43436, 7.8858304}, {21827, 7.853602}, {10560, 6.336789}, {33124, 6.2571}, {37227, 6.191487}, {44756, 5.9481597}, {44252, 5.934027}, {4944, 5.9233828}, {33933, 5.8708363}, {43481, 5.730119}]     |\n",
            "|1413 |[{13503, 8.946143}, {14891, 8.904318}, {37227, 8.57989}, {53414, 8.187691}, {28634, 8.046071}, {43481, 8.036541}, {25109, 7.8445463}, {6238, 7.778817}, {44051, 7.775368}, {42419, 7.6077967}]      |\n",
            "|1420 |[{43481, 10.513596}, {24413, 10.08704}, {278491, 9.924635}, {37945, 9.623721}, {27684, 9.519678}, {51207, 9.4662}, {277523, 9.384919}, {33124, 9.229412}, {40888, 8.989618}, {25253, 8.831496}]     |\n",
            "|1460 |[{24413, 9.590024}, {278465, 9.570908}, {52716, 9.018464}, {29205, 8.677215}, {49571, 8.576863}, {45465, 8.316558}, {10509, 8.236257}, {55413, 8.175947}, {887, 8.153785}, {15595, 7.9125247}]      |\n",
            "|14043|[{50741, 7.860333}, {24513, 5.221607}, {277629, 5.1411886}, {48042, 5.088137}, {36931, 5.0875187}, {32516, 4.995952}, {23870, 4.6245317}, {31412, 4.5525107}, {8801, 4.478769}, {22936, 4.4702196}] |\n",
            "|16964|[{36316, 6.8891635}, {37227, 6.8593087}, {41055, 6.4911547}, {43481, 6.324921}, {17734, 6.134545}, {1075, 6.086566}, {23547, 5.9434357}, {37945, 5.9109235}, {20180, 5.8851185}, {30495, 5.813098}] |\n",
            "+-----+----------------------------------------------------------------------------------------------------------------------------------------------------------------------------------------------------+\n",
            "only showing top 20 rows\n",
            "\n"
          ]
        }
      ],
      "source": [
        "item.show(5)"
      ]
    },
    {
      "cell_type": "markdown",
      "metadata": {
        "id": "JKgz_crk--3u"
      },
      "source": [
        "## Explode Data Rekomendasi"
      ]
    },
    {
      "cell_type": "code",
      "execution_count": null,
      "metadata": {
        "id": "18RHXfqK--3u"
      },
      "outputs": [],
      "source": [
        "from pyspark.sql.functions import explode\n",
        "\n",
        "users = user.withColumn(\"rec_exp\", explode(\"recommendations\"))\\\n",
        "            .select('userId', col(\"rec_exp.ISBN\"), col(\"rec_exp.rating\"))\n",
        "\n",
        "items = item.withColumn(\"rec_exp\", explode(\"recommendations\"))\\\n",
        "            .select('ISBN', col(\"rec_exp.userId\"), col(\"rec_exp.rating\"))"
      ]
    },
    {
      "cell_type": "markdown",
      "metadata": {
        "id": "8GE0rV1q--3u"
      },
      "source": [
        "## Mencari Rating Buku berdasarkan Average Rating Users"
      ]
    },
    {
      "cell_type": "code",
      "execution_count": null,
      "metadata": {
        "id": "Xe7Ddh_D--3u",
        "outputId": "3f77ee6d-3917-4703-dc12-c1a08ee609ce"
      },
      "outputs": [
        {
          "name": "stdout",
          "output_type": "stream",
          "text": [
            "+---------+------------------+\n",
            "|     ISBN|        avg rating|\n",
            "+---------+------------------+\n",
            "|646471365| 17.88390235900879|\n",
            "|689824580|16.826415157318117|\n",
            "|552122866|15.983939743041992|\n",
            "|394800168|15.235930347442627|\n",
            "|310912520|15.203691387176514|\n",
            "|440139791|15.203691387176514|\n",
            "|451141725|14.906007385253906|\n",
            "|552138223|14.143276023864747|\n",
            "|840750803|13.856968784332276|\n",
            "|451458125|13.738457202911377|\n",
            "|440800129|13.683322429656982|\n",
            "|553131834|13.683322429656982|\n",
            "|395681863|13.683322429656982|\n",
            "|553202790|13.683322429656982|\n",
            "|804111774|13.575698471069336|\n",
            "|451458923|13.571675395965576|\n",
            "|440228204|13.543004703521728|\n",
            "|440403782|13.458931255340577|\n",
            "|310903335|13.452016735076905|\n",
            "|887082769| 13.44827356338501|\n",
            "+---------+------------------+\n",
            "only showing top 20 rows\n",
            "\n"
          ]
        }
      ],
      "source": [
        "from pyspark.sql.functions import avg\n",
        "\n",
        "rating_book = items.groupBy(\"ISBN\").agg(avg(\"rating\").alias(\"avg rating\")).filter(col('avg rating') != 0.0)\n",
        "rating_book.sort(col('avg rating').desc()).show(5)"
      ]
    },
    {
      "cell_type": "markdown",
      "metadata": {
        "id": "VIlf5uDz--3v"
      },
      "source": [
        "# Hybrid Filtering (Weighted)"
      ]
    },
    {
      "cell_type": "markdown",
      "metadata": {
        "id": "wqWXNXe2--3v"
      },
      "source": [
        "## Mencari Buku berdasarkan Keyword, dan Rata-rata Rating Buku (ALS & Cosine Similarity)"
      ]
    },
    {
      "cell_type": "code",
      "execution_count": null,
      "metadata": {
        "id": "F5Z03W8c--3v"
      },
      "outputs": [],
      "source": [
        "def cari_kata_rating(keyword, data, rating):\n",
        "    rdd = [(0, 0, keyword)]\n",
        "    df = spark.createDataFrame(data=rdd, schema=[\"id\",\"ISBN\",\"sentences\"])\n",
        "    df =  df.withColumn(\"sentences\", lower(\"sentences\"))\\\n",
        "            .withColumn(\"sentences\", regexp_replace(\"sentences\", \"[^a-zA-Z\\\\s]\", \"  \"))\\\n",
        "            .withColumn(\"sentences\", regexp_replace(\"sentences\", \"\\s+\", \" \"))\n",
        "\n",
        "    dataframe = data.union(df).sort(col('id').asc())\n",
        "\n",
        "    data = pipeline(dataframe)\n",
        "    key = data.filter(col('id') == 0).limit(1)\n",
        "\n",
        "    join = key.alias(\"x\").join(data.alias(\"y\"), col(\"y.id\") > col(\"x.id\"))\n",
        "    combines = join.withColumn(\"cos_sim\", cos_sim(col(\"x.feature\"), col(\"y.feature\"))).na.fill({\"cos_sim\": 0.0})\n",
        "    sort = combines.select(col(\"y.id\").alias(\"idA\"), col(\"x.id\").alias(\"idB\"), col(\"cos_sim\")).filter(col('cos_sim') != 0.0)\n",
        "\n",
        "    merge_cosim = sort.alias(\"x\").join(data.alias(\"y\"), col(\"x.idA\") == col(\"y.id\")).select('ISBN', 'sentences', 'cos_sim')\n",
        "    merge_rating = merge_cosim.alias(\"x\").join(rating.alias(\"y\"), col(\"x.ISBN\") == col(\"y.ISBN\"))\n",
        "    rdd = merge_rating.rdd.map(lambda x: (x[0], x[1], x[2], x[4], (x[2]+(x[4]/20))/2))\n",
        "    out = rdd.toDF([\"ISBN\", \"Sentences\", \"Cos_Sim\", \"Avg_Rating\", \"Weighted\"]).sort(col(\"Weighted\").desc())\n",
        "\n",
        "    rows = out.count()\n",
        "    print(f\"Hasil pencarian sebanyak : {rows}\")\n",
        "    return out.show(truncate=False)"
      ]
    },
    {
      "cell_type": "code",
      "execution_count": null,
      "metadata": {
        "id": "JBbqD9pk--3v",
        "outputId": "9cc31e20-6fcb-4a04-f8f9-5ebde1b9c9dd"
      },
      "outputs": [
        {
          "name": "stdout",
          "output_type": "stream",
          "text": [
            "Hasil pencarian sebanyak : 15343\n",
            "+----------+-------------------------------------------------------------+-------------------+------------------+-------------------+\n",
            "|ISBN      |Sentences                                                    |Cos_Sim            |Avg_Rating        |Weighted           |\n",
            "+----------+-------------------------------------------------------------+-------------------+------------------+-------------------+\n",
            "|0451126661|the dead zone stephen king signet book                       |1.0                |4.3194492816925045|0.6079862320423126 |\n",
            "|0451159276|it r stephen king signet book                                |0.6127592427922383 |11.830597114562988|0.6021445492601938 |\n",
            "|0451127927|dead zone stephen king penguin putnam mass                   |0.7458519229539675 |8.558069038391114 |0.5868776874367616 |\n",
            "|0451169514|it stephen king signet book                                  |0.6127592427922383 |9.467936706542968 |0.5430780390596933 |\n",
            "|0451160959|stand stephen king signet book                               |0.5311742634336843 |9.988322544097901 |0.5152951953192897 |\n",
            "|0451093380|the dead zone stephen king new amer library                  |0.7504656305026173 |5.597486114501953 |0.5151699681138575 |\n",
            "|0451150325|shining stephen king signet book                             |0.5134941347143356 |10.180123996734618|0.5112501672755332 |\n",
            "|0451125452|salem s lot stephen king signet book                         |0.4148050706505534 |11.727939128875732|0.50060101354717   |\n",
            "|0451193881|the shining stephen king signet book                         |0.5186609317256933 |9.62396011352539  |0.4999294687009814 |\n",
            "|0451132378|pet sematary stephen king signet book                        |0.5121700441157945 |9.509408760070801 |0.49382024105966726|\n",
            "|0451139771|night shift stephen king signet book                         |0.45985273697169066|10.312734985351563|0.48774474311963445|\n",
            "|0451166582|the eyes of the dragon stephen king signet book              |0.49161996268793373|9.518842792510986 |0.4837810511567415 |\n",
            "|0451162072|pet sematary stephen king signet book                        |0.5121700441157945 |9.00779333114624  |0.48127985533655326|\n",
            "|0451167082|the stephen king quiz book stephen spignesi signet book      |0.475750497096153  |9.63877477645874  |0.478844617959545  |\n",
            "|0451161343|thinner stephen king signet book                             |0.460503875290325  |9.7834641456604   |0.47483854128667247|\n",
            "|0451092163|the shining signet book stephen king new amer library        |0.4384676375135063 |9.78303165435791  |0.4638096101157009 |\n",
            "|0451167805|firestarter stephen king signet book                         |0.44805907646177556|9.552556610107422 |0.4628434534835733 |\n",
            "|0451190491|the two dead girls green mile series stephen king signet book|0.5106256373725903 |8.179291486740112 |0.45979510585479794|\n",
            "|0451167317|the dark half stephen king signet book                       |0.48913019131082097|8.578790760040283 |0.4590348646564175 |\n",
            "|0451160940|different seasons stephen king signet book                   |0.4541940177478162 |9.25027379989624  |0.4583538538713141 |\n",
            "+----------+-------------------------------------------------------------+-------------------+------------------+-------------------+\n",
            "only showing top 20 rows\n",
            "\n"
          ]
        }
      ],
      "source": [
        "cari_kata_rating(\"the dead zone stephen king signet book\", books, rating_book)"
      ]
    },
    {
      "cell_type": "markdown",
      "metadata": {
        "id": "Iid5fFNM--3v"
      },
      "source": [
        "## Rekomendasi Buku berdasarkan User ID (ALS)"
      ]
    },
    {
      "cell_type": "code",
      "execution_count": null,
      "metadata": {
        "id": "2WMhDpX8--3w",
        "outputId": "d2255a2a-d440-4bc1-caf4-4e9c2d5b8be6"
      },
      "outputs": [
        {
          "name": "stdout",
          "output_type": "stream",
          "text": [
            "+------+----------+---------+\n",
            "|userId|      ISBN|   rating|\n",
            "+------+----------+---------+\n",
            "|278465| 646471365|20.757305|\n",
            "| 34697|1858548268|20.141285|\n",
            "| 40732| 440139791|20.078661|\n",
            "| 40732| 310912520|20.078661|\n",
            "| 19887| 440139791|19.816566|\n",
            "| 19887| 310912520|19.816566|\n",
            "| 32002| 307155781| 19.81422|\n",
            "| 32002| 451165543| 19.81422|\n",
            "| 32002| 375811370| 19.81422|\n",
            "| 32002| 805015094| 19.81422|\n",
            "| 32002| 316112321| 19.81422|\n",
            "| 32002| 785341722| 19.81422|\n",
            "| 32002| 740711660| 19.81422|\n",
            "| 32002|1570640114| 19.81422|\n",
            "| 32002| 307157881| 19.81422|\n",
            "| 32002|1570640742| 19.81422|\n",
            "| 24413| 646471365|19.474031|\n",
            "|278465| 689824580|18.939238|\n",
            "| 24413| 689824580|18.851898|\n",
            "| 52716| 646471365|18.742237|\n",
            "+------+----------+---------+\n",
            "only showing top 20 rows\n",
            "\n"
          ]
        }
      ],
      "source": [
        "users.sort(col('rating').desc()).show(5)"
      ]
    },
    {
      "cell_type": "markdown",
      "metadata": {
        "id": "0Bon7Suq--3w"
      },
      "source": [
        "## Rekomendasi Buku berdasarkan Judul Buku dan Rekomendasi User (ALS & Cosine Similarity)"
      ]
    },
    {
      "cell_type": "code",
      "execution_count": null,
      "metadata": {
        "id": "UCtLmhuu--3w"
      },
      "outputs": [],
      "source": [
        "def rekomendasi_kunjungan(isbn, dataframe, rating, user):\n",
        "\n",
        "    data = pipeline(dataframe)\n",
        "    key = data.filter(col('ISBN') == isbn).limit(1)\n",
        "    rating = rating.filter(col('userId') == user)\n",
        "\n",
        "    join = key.alias(\"x\").join(data.alias(\"y\"), col(\"y.id\") > col(\"x.id\"))\n",
        "\n",
        "    combines = join.withColumn(\"cos_sim\", cos_sim(col(\"x.feature\"), col(\"y.feature\"))).na.fill({\"cos_sim\": 0.0})\n",
        "    sort = combines.select(col(\"y.id\").alias(\"idA\"), col(\"x.id\").alias(\"idB\"), col(\"cos_sim\")).filter(col('cos_sim') != 0.0).sort(col('cos_sim').desc())\n",
        "\n",
        "    merge_cosim = sort.alias(\"x\").join(data.alias(\"y\"), col(\"x.idA\") == col(\"y.id\")).select('ISBN', 'sentences', 'cos_sim')\n",
        "\n",
        "    merge_rating = merge_cosim.alias(\"x\").join(rating.alias(\"y\"), col(\"x.ISBN\") == col(\"y.ISBN\"))\n",
        "    rdd = merge_rating.rdd.map(lambda x: (x[0], x[1], x[2], x[5], (x[2]+(x[5]/20))/2))\n",
        "    out = rdd.toDF([\"ISBN\", \"Sentences\", \"Cos_Sim\", \"Avg_Rating\", \"Weighted\"]).sort(col(\"Weighted\").desc())\n",
        "\n",
        "    rows = key.rdd.collect()[0]['sentences']\n",
        "    print(f\"Judul buku yang sedang dikunjungi : {rows}\")\n",
        "    print(f\"User yang mengunjungi : \", user)\n",
        "    return out.sort(col('Weighted').desc()).show(truncate=False)"
      ]
    },
    {
      "cell_type": "code",
      "execution_count": null,
      "metadata": {
        "id": "zAEyeOax--3w",
        "outputId": "8e1f6fe2-99b7-4e75-dff5-f5bb20053842"
      },
      "outputs": [
        {
          "name": "stdout",
          "output_type": "stream",
          "text": [
            "Judul buku yang sedang dikunjungi : now i am big our new baby gillian davies autumn publishing ltd\n",
            "User yang mengunjungi :  34697\n",
            "+----------+-----------------------------------------------------------------+--------------------+-----------------+-------------------+\n",
            "|ISBN      |Sentences                                                        |Cos_Sim             |Avg_Rating       |Weighted           |\n",
            "+----------+-----------------------------------------------------------------+--------------------+-----------------+-------------------+\n",
            "|0740704818|the blue day book bradley trevor greive andrews mcmeel publishing|0.022185946260666934|9.353647232055664|0.24493415393172507|\n",
            "|0849908663|the body charles colson w publishing group                       |0.030341345916120675|8.646134376525879|0.23132403237120733|\n",
            "+----------+-----------------------------------------------------------------+--------------------+-----------------+-------------------+\n",
            "\n"
          ]
        }
      ],
      "source": [
        "rekomendasi_kunjungan(\"1858548268\", books, users, 34697)"
      ]
    },
    {
      "cell_type": "markdown",
      "metadata": {
        "id": "pvi_xRfD--3w"
      },
      "source": [
        "## Rekomendasi Buku Berdasarkan User ID (ALS)"
      ]
    },
    {
      "cell_type": "code",
      "execution_count": null,
      "metadata": {
        "id": "p7N3ILnd--3w"
      },
      "outputs": [],
      "source": [
        "def rekomendasi_user(user, dataframe, rating):\n",
        "    rating = rating.filter(col('userId') == user)\n",
        "\n",
        "    merge_cosim = rating.alias(\"x\").join(dataframe.alias(\"y\"), col(\"x.ISBN\") == col(\"y.ISBN\"))\n",
        "    out =  merge_cosim.select('x.ISBN', 'rating', 'sentences').sort(col('rating'))\n",
        "\n",
        "    print(f\"User ID : \", user)\n",
        "    return out.show(truncate=False)"
      ]
    },
    {
      "cell_type": "code",
      "execution_count": null,
      "metadata": {
        "id": "U5of2Ng---3x",
        "outputId": "9263ad97-bc9a-4a6d-d1bd-ea048e718c71"
      },
      "outputs": [
        {
          "name": "stdout",
          "output_type": "stream",
          "text": [
            "User ID :  19887\n",
            "+---------+---------+-------------------------------------------------------------------------------------------------------+\n",
            "|ISBN     |rating   |sentences                                                                                              |\n",
            "+---------+---------+-------------------------------------------------------------------------------------------------------+\n",
            "|375756817|15.853253|the adventures of tom sawyer modern library classics mark twain modern library                         |\n",
            "|684835614|15.853253|the road less traveled and beyond spiritual growth in an age of anxiety m scott peck touchstone        |\n",
            "|898151899|16.098257|white trash cooking jargon ernest matthew mickler ten speed press                                      |\n",
            "|553202790|17.834908|dr atkins nutrition breakthrough how to robert c atkin bantam doubleday dell                           |\n",
            "|553131834|17.834908|pearl john steinbeck bantam doubleday dell                                                             |\n",
            "|440800129|17.834908|ramona quimby beverly cleary doubleday books                                                           |\n",
            "|395681863|17.834908|catherine called birdy karen cushman clarion books                                                     |\n",
            "|310912520|19.816566|kjv giant print reference bible personal size bronze edition not available zondervan publishing company|\n",
            "+---------+---------+-------------------------------------------------------------------------------------------------------+\n",
            "\n"
          ]
        }
      ],
      "source": [
        "rekomendasi_user(19887, books, users)"
      ]
    }
  ],
  "metadata": {
    "colab": {
      "provenance": []
    },
    "kernelspec": {
      "display_name": "Python 3 (ipykernel)",
      "language": "python",
      "name": "python3"
    },
    "language_info": {
      "codemirror_mode": {
        "name": "ipython",
        "version": 3
      },
      "file_extension": ".py",
      "mimetype": "text/x-python",
      "name": "python",
      "nbconvert_exporter": "python",
      "pygments_lexer": "ipython3",
      "version": "3.10.6"
    }
  },
  "nbformat": 4,
  "nbformat_minor": 0
}